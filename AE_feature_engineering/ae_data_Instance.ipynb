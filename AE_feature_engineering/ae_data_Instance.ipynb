{
 "cells": [
  {
   "cell_type": "code",
   "execution_count": 2,
   "metadata": {},
   "outputs": [
    {
     "name": "stderr",
     "output_type": "stream",
     "text": [
      "Using TensorFlow backend.\n"
     ]
    }
   ],
   "source": [
    "import os\n",
    "os.environ[\"CUDA_VISIBLE_DEVICES\"] = \"0,1\"\n",
    "os.environ[\"TF_CPP_MIN_LOG_LEVEL\"] = \"2\"\n",
    "import warnings\n",
    "warnings.filterwarnings(\"ignore\")\n",
    "import numpy as np\n",
    "from sklearn.metrics import classification_report, confusion_matrix, accuracy_score\n",
    "import random\n",
    "import pickle\n",
    "import tensorflow as tf\n",
    "from sklearn.ensemble import RandomForestClassifier\n",
    "from sklearn.svm import SVC\n",
    "from sklearn.model_selection import GridSearchCV\n",
    "import pandas as pd\n",
    "import os\n",
    "from sklearn.decomposition import PCA\n",
    "from sklearn.metrics import precision_score\n",
    "from sklearn.metrics import recall_score\n",
    "from sklearn.metrics import f1_score\n",
    "from sklearn.metrics import roc_auc_score\n",
    "from sklearn.cluster import KMeans\n",
    "import matplotlib.pyplot as plt\n",
    "import keras\n",
    "import sys"
   ]
  },
  {
   "cell_type": "code",
   "execution_count": 17,
   "metadata": {},
   "outputs": [
    {
     "name": "stdout",
     "output_type": "stream",
     "text": [
      "(5, 5)\n",
      "(4310, 1, 248, 4)\n"
     ]
    }
   ],
   "source": [
    "with open('/home/sxz/data/geolife_Data/paper2_data_for_DL_kfold_dataset_RL.pickle', 'rb') as f:\n",
    "    a1 , b1 = pickle.load(f)\n",
    "print(np.shape(a1))\n",
    "print(np.shape(b1))"
   ]
  },
  {
   "cell_type": "code",
   "execution_count": 18,
   "metadata": {},
   "outputs": [],
   "source": [
    "kfold_dataset = [[] for _ in range(5)]"
   ]
  },
  {
   "cell_type": "code",
   "execution_count": 19,
   "metadata": {},
   "outputs": [
    {
     "name": "stdout",
     "output_type": "stream",
     "text": [
      "(1, 5)\n",
      "(1, 5)\n",
      "(1, 5)\n",
      "(1, 5)\n",
      "(1, 5)\n"
     ]
    }
   ],
   "source": [
    "for i in range(5):\n",
    "    a = a1[round(0.2*(i)*len(a1)):round((0.2*(i+1)*len(a1)))]\n",
    "    kfold_dataset[i].append(a)\n",
    "    print(np.shape(kfold_dataset[i][0]))"
   ]
  },
  {
   "cell_type": "code",
   "execution_count": 14,
   "metadata": {},
   "outputs": [
    {
     "ename": "IndexError",
     "evalue": "index 3 is out of bounds for axis 0 with size 1",
     "output_type": "error",
     "traceback": [
      "\u001b[0;31m---------------------------------------------------------------------------\u001b[0m",
      "\u001b[0;31mIndexError\u001b[0m                                Traceback (most recent call last)",
      "\u001b[0;32m<ipython-input-14-e0526be929e2>\u001b[0m in \u001b[0;36m<module>\u001b[0;34m\u001b[0m\n\u001b[0;32m----> 1\u001b[0;31m \u001b[0ma1\u001b[0m\u001b[0;34m[\u001b[0m\u001b[0;36m0\u001b[0m\u001b[0;34m]\u001b[0m\u001b[0;34m[\u001b[0m\u001b[0;36m3\u001b[0m\u001b[0;34m]\u001b[0m\u001b[0;34m\u001b[0m\u001b[0;34m\u001b[0m\u001b[0m\n\u001b[0m",
      "\u001b[0;31mIndexError\u001b[0m: index 3 is out of bounds for axis 0 with size 1"
     ]
    }
   ],
   "source": [
    "a1[0][3]"
   ]
  },
  {
   "cell_type": "code",
   "execution_count": null,
   "metadata": {},
   "outputs": [],
   "source": []
  },
  {
   "cell_type": "code",
   "execution_count": null,
   "metadata": {},
   "outputs": [],
   "source": []
  },
  {
   "cell_type": "code",
   "execution_count": 6,
   "metadata": {},
   "outputs": [
    {
     "data": {
      "text/plain": [
       "(31, 8)"
      ]
     },
     "execution_count": 6,
     "metadata": {},
     "output_type": "execute_result"
    }
   ],
   "source": [
    "np.shape(a1[0][0])"
   ]
  },
  {
   "cell_type": "code",
   "execution_count": 7,
   "metadata": {},
   "outputs": [
    {
     "ename": "IndexError",
     "evalue": "index 2 is out of bounds for axis 0 with size 1",
     "output_type": "error",
     "traceback": [
      "\u001b[0;31m---------------------------------------------------------------------------\u001b[0m",
      "\u001b[0;31mIndexError\u001b[0m                                Traceback (most recent call last)",
      "\u001b[0;32m<ipython-input-7-7fbf64b4d5c7>\u001b[0m in \u001b[0;36m<module>\u001b[0;34m\u001b[0m\n\u001b[0;32m----> 1\u001b[0;31m \u001b[0mnp\u001b[0m\u001b[0;34m.\u001b[0m\u001b[0mshape\u001b[0m\u001b[0;34m(\u001b[0m\u001b[0ma1\u001b[0m\u001b[0;34m[\u001b[0m\u001b[0;36m0\u001b[0m\u001b[0;34m]\u001b[0m\u001b[0;34m[\u001b[0m\u001b[0;36m2\u001b[0m\u001b[0;34m]\u001b[0m\u001b[0;34m)\u001b[0m\u001b[0;34m\u001b[0m\u001b[0;34m\u001b[0m\u001b[0m\n\u001b[0m",
      "\u001b[0;31mIndexError\u001b[0m: index 2 is out of bounds for axis 0 with size 1"
     ]
    }
   ],
   "source": [
    "np.shape(a1[0][2])"
   ]
  },
  {
   "cell_type": "code",
   "execution_count": 8,
   "metadata": {},
   "outputs": [
    {
     "ename": "IndexError",
     "evalue": "index 2 is out of bounds for axis 0 with size 1",
     "output_type": "error",
     "traceback": [
      "\u001b[0;31m---------------------------------------------------------------------------\u001b[0m",
      "\u001b[0;31mIndexError\u001b[0m                                Traceback (most recent call last)",
      "\u001b[0;32m<ipython-input-8-c2efd228a542>\u001b[0m in \u001b[0;36m<module>\u001b[0;34m\u001b[0m\n\u001b[0;32m----> 1\u001b[0;31m \u001b[0mtx\u001b[0m \u001b[0;34m=\u001b[0m \u001b[0mnp\u001b[0m\u001b[0;34m.\u001b[0m\u001b[0mconcatenate\u001b[0m\u001b[0;34m(\u001b[0m\u001b[0;34m(\u001b[0m\u001b[0ma1\u001b[0m\u001b[0;34m[\u001b[0m\u001b[0;36m0\u001b[0m\u001b[0;34m]\u001b[0m\u001b[0;34m[\u001b[0m\u001b[0;36m0\u001b[0m\u001b[0;34m]\u001b[0m\u001b[0;34m,\u001b[0m\u001b[0ma1\u001b[0m\u001b[0;34m[\u001b[0m\u001b[0;36m0\u001b[0m\u001b[0;34m]\u001b[0m\u001b[0;34m[\u001b[0m\u001b[0;36m2\u001b[0m\u001b[0;34m]\u001b[0m\u001b[0;34m)\u001b[0m\u001b[0;34m)\u001b[0m\u001b[0;34m\u001b[0m\u001b[0;34m\u001b[0m\u001b[0m\n\u001b[0m",
      "\u001b[0;31mIndexError\u001b[0m: index 2 is out of bounds for axis 0 with size 1"
     ]
    }
   ],
   "source": [
    "tx = np.concatenate((a1[0][0],a1[0][2]))"
   ]
  },
  {
   "cell_type": "code",
   "execution_count": 9,
   "metadata": {},
   "outputs": [
    {
     "ename": "IndexError",
     "evalue": "index 4 is out of bounds for axis 0 with size 1",
     "output_type": "error",
     "traceback": [
      "\u001b[0;31m---------------------------------------------------------------------------\u001b[0m",
      "\u001b[0;31mIndexError\u001b[0m                                Traceback (most recent call last)",
      "\u001b[0;32m<ipython-input-9-e4405f9ed0ab>\u001b[0m in \u001b[0;36m<module>\u001b[0;34m\u001b[0m\n\u001b[0;32m----> 1\u001b[0;31m \u001b[0mnp\u001b[0m\u001b[0;34m.\u001b[0m\u001b[0mshape\u001b[0m\u001b[0;34m(\u001b[0m\u001b[0ma1\u001b[0m\u001b[0;34m[\u001b[0m\u001b[0;36m0\u001b[0m\u001b[0;34m]\u001b[0m\u001b[0;34m[\u001b[0m\u001b[0;36m4\u001b[0m\u001b[0;34m]\u001b[0m\u001b[0;34m)\u001b[0m\u001b[0;34m\u001b[0m\u001b[0;34m\u001b[0m\u001b[0m\n\u001b[0m",
      "\u001b[0;31mIndexError\u001b[0m: index 4 is out of bounds for axis 0 with size 1"
     ]
    }
   ],
   "source": [
    "np.shape(a1[0][4])"
   ]
  },
  {
   "cell_type": "code",
   "execution_count": 10,
   "metadata": {},
   "outputs": [
    {
     "ename": "IndexError",
     "evalue": "index 1 is out of bounds for axis 0 with size 1",
     "output_type": "error",
     "traceback": [
      "\u001b[0;31m---------------------------------------------------------------------------\u001b[0m",
      "\u001b[0;31mIndexError\u001b[0m                                Traceback (most recent call last)",
      "\u001b[0;32m<ipython-input-10-ccc0f67d3e65>\u001b[0m in \u001b[0;36m<module>\u001b[0;34m\u001b[0m\n\u001b[0;32m----> 1\u001b[0;31m \u001b[0mb11\u001b[0m \u001b[0;34m=\u001b[0m \u001b[0mnp\u001b[0m\u001b[0;34m.\u001b[0m\u001b[0mzeros\u001b[0m\u001b[0;34m(\u001b[0m\u001b[0;34m[\u001b[0m\u001b[0mlen\u001b[0m\u001b[0;34m(\u001b[0m\u001b[0ma1\u001b[0m\u001b[0;34m[\u001b[0m\u001b[0;36m0\u001b[0m\u001b[0;34m]\u001b[0m\u001b[0;34m[\u001b[0m\u001b[0;36m1\u001b[0m\u001b[0;34m]\u001b[0m\u001b[0;34m)\u001b[0m\u001b[0;34m,\u001b[0m\u001b[0;36m5\u001b[0m\u001b[0;34m]\u001b[0m\u001b[0;34m)\u001b[0m\u001b[0;34m\u001b[0m\u001b[0;34m\u001b[0m\u001b[0m\n\u001b[0m",
      "\u001b[0;31mIndexError\u001b[0m: index 1 is out of bounds for axis 0 with size 1"
     ]
    }
   ],
   "source": [
    "b11 = np.zeros([len(a1[0][1]),5])"
   ]
  },
  {
   "cell_type": "code",
   "execution_count": 22,
   "metadata": {
    "scrolled": true
   },
   "outputs": [
    {
     "name": "stdout",
     "output_type": "stream",
     "text": [
      "[0 0 0 0 0 0 0 0 0 0 0 0 0 0 0 0 0 0 0 0 0 0 0 0 1 1 1 1 1 1 1 2 2 2 2 2 2\n",
      " 2 2 2 3 3 3 3 4 4 4 4 4 4 4 4 4 4 4 4 4 4 4 4 4 4 4 4 4 4 4 4 4 4 4 4 4 4\n",
      " 4 4 4 4 4 4 4 4 4 4 4 4 4 4 4 4 4 4 4 4 4 4 4 4 4 4 4 4 4 4 4 4 4 4 4 4]\n"
     ]
    }
   ],
   "source": [
    "print((a1[0][4]))"
   ]
  },
  {
   "cell_type": "code",
   "execution_count": 12,
   "metadata": {},
   "outputs": [
    {
     "ename": "IndexError",
     "evalue": "index 1 is out of bounds for axis 0 with size 1",
     "output_type": "error",
     "traceback": [
      "\u001b[0;31m---------------------------------------------------------------------------\u001b[0m",
      "\u001b[0;31mIndexError\u001b[0m                                Traceback (most recent call last)",
      "\u001b[0;32m<ipython-input-12-9bdec9b1e37b>\u001b[0m in \u001b[0;36m<module>\u001b[0;34m\u001b[0m\n\u001b[0;32m----> 1\u001b[0;31m \u001b[0mb1\u001b[0m \u001b[0;34m=\u001b[0m \u001b[0ma1\u001b[0m\u001b[0;34m[\u001b[0m\u001b[0;36m0\u001b[0m\u001b[0;34m]\u001b[0m\u001b[0;34m[\u001b[0m\u001b[0;36m1\u001b[0m\u001b[0;34m]\u001b[0m\u001b[0;34m\u001b[0m\u001b[0;34m\u001b[0m\u001b[0m\n\u001b[0m",
      "\u001b[0;31mIndexError\u001b[0m: index 1 is out of bounds for axis 0 with size 1"
     ]
    }
   ],
   "source": [
    "b1 = a1[0][1]"
   ]
  },
  {
   "cell_type": "code",
   "execution_count": 13,
   "metadata": {},
   "outputs": [
    {
     "ename": "NameError",
     "evalue": "name 'b11' is not defined",
     "output_type": "error",
     "traceback": [
      "\u001b[0;31m---------------------------------------------------------------------------\u001b[0m",
      "\u001b[0;31mNameError\u001b[0m                                 Traceback (most recent call last)",
      "\u001b[0;32m<ipython-input-13-4d243c40ceb0>\u001b[0m in \u001b[0;36m<module>\u001b[0;34m\u001b[0m\n\u001b[0;32m----> 1\u001b[0;31m \u001b[0mprint\u001b[0m\u001b[0;34m(\u001b[0m\u001b[0mnp\u001b[0m\u001b[0;34m.\u001b[0m\u001b[0mshape\u001b[0m\u001b[0;34m(\u001b[0m\u001b[0mb11\u001b[0m\u001b[0;34m)\u001b[0m\u001b[0;34m)\u001b[0m\u001b[0;34m\u001b[0m\u001b[0;34m\u001b[0m\u001b[0m\n\u001b[0m",
      "\u001b[0;31mNameError\u001b[0m: name 'b11' is not defined"
     ]
    }
   ],
   "source": [
    "print(np.shape(b11))"
   ]
  },
  {
   "cell_type": "code",
   "execution_count": 32,
   "metadata": {},
   "outputs": [],
   "source": [
    "for i in range(len(b1)):\n",
    "    b11[i][b1[i]] = 1"
   ]
  },
  {
   "cell_type": "code",
   "execution_count": 33,
   "metadata": {},
   "outputs": [
    {
     "data": {
      "text/plain": [
       "array([[0., 1., 0., 0., 0.],\n",
       "       [0., 1., 0., 0., 0.],\n",
       "       [0., 1., 0., 0., 0.],\n",
       "       ...,\n",
       "       [0., 0., 0., 0., 1.],\n",
       "       [0., 0., 0., 0., 1.],\n",
       "       [1., 0., 0., 0., 0.]])"
      ]
     },
     "execution_count": 33,
     "metadata": {},
     "output_type": "execute_result"
    }
   ],
   "source": [
    "b11"
   ]
  },
  {
   "cell_type": "code",
   "execution_count": 36,
   "metadata": {},
   "outputs": [],
   "source": [
    "Train_X = a1[0][0]\n",
    "Train_Y = b11\n",
    "Test_X = a1[0][2]\n",
    "Test_Y = a1[0][3]\n",
    "\n",
    "Test_Y_ori = a1[0][4]"
   ]
  },
  {
   "cell_type": "code",
   "execution_count": 48,
   "metadata": {},
   "outputs": [],
   "source": [
    "with open('/home/sxz/data/geolife_Data/Augment_origin_data_Cross1.pickle', 'wb') as f:\n",
    "    pickle.dump([Train_X, Train_Y, Test_X, Test_Y, Test_Y_ori], f)"
   ]
  },
  {
   "cell_type": "code",
   "execution_count": null,
   "metadata": {},
   "outputs": [],
   "source": []
  },
  {
   "cell_type": "code",
   "execution_count": null,
   "metadata": {},
   "outputs": [],
   "source": []
  },
  {
   "cell_type": "code",
   "execution_count": 42,
   "metadata": {},
   "outputs": [
    {
     "name": "stdout",
     "output_type": "stream",
     "text": [
      "(5, 5)\n",
      "(4310, 1, 248, 4)\n"
     ]
    }
   ],
   "source": [
    "with open('/home/sxz/data/geolife_Data/paper2_data_for_DL_kfold_dataset_RL.pickle', 'rb') as f:\n",
    "    a1 , b1 = pickle.load(f)\n",
    "print(np.shape(a1))\n",
    "print(np.shape(b1))"
   ]
  },
  {
   "cell_type": "code",
   "execution_count": 46,
   "metadata": {},
   "outputs": [],
   "source": [
    "Test_X = a1[0][2]\n",
    "Test_Y = a1[0][3]\n",
    "\n",
    "Test_Y_ori = a1[0][4]"
   ]
  },
  {
   "cell_type": "code",
   "execution_count": 47,
   "metadata": {},
   "outputs": [
    {
     "name": "stdout",
     "output_type": "stream",
     "text": [
      "(110, 1, 248, 4)\n"
     ]
    }
   ],
   "source": [
    "print(np.shape(Test_X))"
   ]
  },
  {
   "cell_type": "code",
   "execution_count": 43,
   "metadata": {},
   "outputs": [],
   "source": [
    "b11 = np.zeros([len(b1),5])"
   ]
  },
  {
   "cell_type": "code",
   "execution_count": 44,
   "metadata": {},
   "outputs": [
    {
     "data": {
      "text/plain": [
       "array([[0., 0., 0., 0., 0.],\n",
       "       [0., 0., 0., 0., 0.],\n",
       "       [0., 0., 0., 0., 0.],\n",
       "       ...,\n",
       "       [0., 0., 0., 0., 0.],\n",
       "       [0., 0., 0., 0., 0.],\n",
       "       [0., 0., 0., 0., 0.]])"
      ]
     },
     "execution_count": 44,
     "metadata": {},
     "output_type": "execute_result"
    }
   ],
   "source": [
    "b11"
   ]
  },
  {
   "cell_type": "code",
   "execution_count": 45,
   "metadata": {},
   "outputs": [
    {
     "ename": "IndexError",
     "evalue": "arrays used as indices must be of integer (or boolean) type",
     "output_type": "error",
     "traceback": [
      "\u001b[0;31m---------------------------------------------------------------------------\u001b[0m",
      "\u001b[0;31mIndexError\u001b[0m                                Traceback (most recent call last)",
      "\u001b[0;32m<ipython-input-45-24653792b127>\u001b[0m in \u001b[0;36m<module>\u001b[0;34m\u001b[0m\n\u001b[1;32m      1\u001b[0m \u001b[0;32mfor\u001b[0m \u001b[0mi\u001b[0m \u001b[0;32min\u001b[0m \u001b[0mrange\u001b[0m\u001b[0;34m(\u001b[0m\u001b[0mlen\u001b[0m\u001b[0;34m(\u001b[0m\u001b[0mb1\u001b[0m\u001b[0;34m)\u001b[0m\u001b[0;34m)\u001b[0m\u001b[0;34m:\u001b[0m\u001b[0;34m\u001b[0m\u001b[0;34m\u001b[0m\u001b[0m\n\u001b[0;32m----> 2\u001b[0;31m     \u001b[0mb11\u001b[0m\u001b[0;34m[\u001b[0m\u001b[0mi\u001b[0m\u001b[0;34m]\u001b[0m\u001b[0;34m[\u001b[0m\u001b[0mb1\u001b[0m\u001b[0;34m[\u001b[0m\u001b[0mi\u001b[0m\u001b[0;34m]\u001b[0m\u001b[0;34m]\u001b[0m \u001b[0;34m=\u001b[0m \u001b[0;36m1\u001b[0m\u001b[0;34m\u001b[0m\u001b[0;34m\u001b[0m\u001b[0m\n\u001b[0m",
      "\u001b[0;31mIndexError\u001b[0m: arrays used as indices must be of integer (or boolean) type"
     ]
    }
   ],
   "source": [
    "for i in range(len(b1)):\n",
    "    b11[i][b1[i]] = 1"
   ]
  },
  {
   "cell_type": "code",
   "execution_count": 7,
   "metadata": {},
   "outputs": [],
   "source": [
    "trainx = []\n",
    "trainy =[]"
   ]
  },
  {
   "cell_type": "code",
   "execution_count": 8,
   "metadata": {
    "scrolled": true
   },
   "outputs": [],
   "source": [
    "len(b1[b1==0])\n",
    "# print(np.where(b1==0))\n",
    "\n",
    "random_b = np.random.choice(len(np.where(b1==0)[0]) , size=round(200), replace=False, p=None)\n",
    "\n",
    "# print(random_b)\n",
    "\n",
    "np.where(b1==0)[0][random_b]\n",
    "train_index_ez=np.where(b1==0)[0][random_b]\n",
    "\n",
    "# print(train_index_ez)\n",
    "\n",
    "Train_X_tmp = a1[train_index_ez]\n",
    "Train_Y_tmp = b11[train_index_ez]\n",
    "\n",
    "\n",
    "# trainx.append(Train_X_tmp)\n",
    "# trainy.append(Train_Y_"
   ]
  },
  {
   "cell_type": "code",
   "execution_count": 19,
   "metadata": {},
   "outputs": [],
   "source": [
    "random_b = np.random.choice(len(np.where(b1==4)[0]) , size=round(200), replace=False, p=None)\n",
    "\n",
    "# print(random_b)\n",
    "\n",
    "train_index_ez=np.where(b1==4)[0][random_b]\n",
    "\n",
    "# print(train_index_ez)\n",
    "\n",
    "Train_X_tmp1 = a1[train_index_ez]\n",
    "Train_Y_tmp1 = b11[train_index_ez]\n",
    "\n"
   ]
  },
  {
   "cell_type": "code",
   "execution_count": 20,
   "metadata": {},
   "outputs": [],
   "source": [
    "Train_X_tmp = np.concatenate((Train_X_tmp,Train_X_tmp1),axis=0)\n",
    "Train_Y_tmp = np.concatenate((Train_Y_tmp,Train_Y_tmp1))"
   ]
  },
  {
   "cell_type": "code",
   "execution_count": 31,
   "metadata": {},
   "outputs": [
    {
     "name": "stdout",
     "output_type": "stream",
     "text": [
      "(650, 1, 31, 128)\n",
      "(650, 5)\n"
     ]
    }
   ],
   "source": [
    "Train_X_tmp = Train_X_tmp.reshape(650,1,31,128)\n",
    "print(np.shape(Train_X_tmp))\n",
    "print(np.shape(Train_Y_tmp))"
   ]
  },
  {
   "cell_type": "code",
   "execution_count": 32,
   "metadata": {},
   "outputs": [],
   "source": [
    "Train_X = Train_X_tmp\n",
    "Train_Y = Train_Y_tmp\n",
    "Test_X = a1[test_index]\n",
    "Test_Y = b11[test_index]\n",
    "\n",
    "Test_Y_ori = b1[test_index]"
   ]
  },
  {
   "cell_type": "code",
   "execution_count": 33,
   "metadata": {},
   "outputs": [],
   "source": [
    "with open('/home/sxz/data/geolife_Data/Averaged_Encoded_data_Cross.pickle', 'wb') as f:\n",
    "    pickle.dump([Train_X, Train_Y, Test_X, Test_Y, Test_Y_ori], f)"
   ]
  },
  {
   "cell_type": "code",
   "execution_count": 23,
   "metadata": {},
   "outputs": [
    {
     "data": {
      "text/plain": [
       "array([[1., 0., 0., 0., 0.],\n",
       "       [1., 0., 0., 0., 0.],\n",
       "       [1., 0., 0., 0., 0.],\n",
       "       ...,\n",
       "       [0., 0., 0., 0., 1.],\n",
       "       [0., 0., 0., 0., 1.],\n",
       "       [0., 0., 0., 0., 1.]])"
      ]
     },
     "execution_count": 23,
     "metadata": {},
     "output_type": "execute_result"
    }
   ],
   "source": [
    "b11"
   ]
  },
  {
   "cell_type": "code",
   "execution_count": 24,
   "metadata": {},
   "outputs": [],
   "source": [
    "a1 = a1.reshape(4285,1,31,128)"
   ]
  },
  {
   "cell_type": "code",
   "execution_count": 25,
   "metadata": {},
   "outputs": [],
   "source": [
    "all_index = np.arange(0,len(a1))"
   ]
  },
  {
   "cell_type": "code",
   "execution_count": 26,
   "metadata": {},
   "outputs": [
    {
     "data": {
      "text/plain": [
       "array([   0,    1,    2, ..., 4282, 4283, 4284])"
      ]
     },
     "execution_count": 26,
     "metadata": {},
     "output_type": "execute_result"
    }
   ],
   "source": [
    "all_index"
   ]
  },
  {
   "cell_type": "code",
   "execution_count": 27,
   "metadata": {},
   "outputs": [],
   "source": [
    "test_index = np.random.choice(all_index, size=round(0.2*len(all_index)), replace=False, p=None)"
   ]
  },
  {
   "cell_type": "code",
   "execution_count": 28,
   "metadata": {
    "scrolled": true
   },
   "outputs": [
    {
     "data": {
      "text/plain": [
       "array([ 789, 2009, 1835, 3278, 3230, 4098, 3356,  729, 2446, 2110, 2826,\n",
       "       4188, 3238,  619, 3322, 2055, 3062, 3559, 1839, 3072, 4211, 2771,\n",
       "       1161, 2884, 1683, 3549, 2096, 3261, 3821, 3259, 3957, 3465, 2773,\n",
       "       1042, 3539,  973,  595, 1792,  532, 1041,  677,  354, 1292, 4172,\n",
       "       4185, 3475, 3810, 3249, 4155, 4194, 4000, 2929, 3343, 2580, 2297,\n",
       "       3558, 4129,  505, 3866, 2101,  656, 2676, 2418, 2734, 2658,  253,\n",
       "       3935, 2808,  376, 1934, 2968, 4082, 2017,  377,  493,  850,  582,\n",
       "       1650, 3077, 2638,  130,  855, 2909, 3667, 2766, 3370, 2911, 2620,\n",
       "       4231, 3766, 3138, 4050, 3396, 3052, 2611, 1015, 3277, 1105, 4151,\n",
       "       2625, 1965, 3785, 2955, 2569, 3503, 3490, 3439, 3128, 1675,  603,\n",
       "       3690, 1905, 1417, 2219,  219, 2851, 3550, 1722, 3812,  774, 3953,\n",
       "       3049, 1910,  910, 2597, 3616, 1917, 1519, 1564, 3886, 1654, 1314,\n",
       "         72, 1975,  331, 3240, 2958,  477, 3147, 3125, 3699, 1574,  667,\n",
       "       2305, 3228, 4196,  124, 2175,  766, 1222,  986, 1798,  222,  704,\n",
       "        867, 1444, 2548,  836, 1687,   78,  388, 2314, 3555, 3979, 1503,\n",
       "       2769, 2966, 1337, 1544, 2631,  502,  545,  711, 3111, 3871, 1563,\n",
       "        580, 2037, 2985, 1293, 1528,  655,  530, 1255, 2833, 2514, 1462,\n",
       "        330, 3918, 2802,  657, 3897, 3050, 1409, 1321,  947, 4201, 2014,\n",
       "        919, 2701,  246,  481, 3672, 4005, 1130, 4208, 2674, 3096,  954,\n",
       "       1877, 2621, 1818, 3097,  180, 2699,  779,  455, 1542, 3184,  641,\n",
       "       2489, 2303,  291, 4134, 4111, 2481,  558, 4047, 2708, 1710, 2189,\n",
       "        483, 2519, 1541, 1355, 3570,  408, 2228, 4036,   56, 4152, 3932,\n",
       "        762, 3800, 3326, 2497, 1003, 3689, 1738, 2251, 1699, 3917, 1578,\n",
       "        734, 1609, 2842, 3783,  549, 1696, 1469, 2732, 4137, 3084,  570,\n",
       "       2130, 4259,  459, 2122,  283, 1359,  585, 3569, 2117, 3959, 3794,\n",
       "       1382, 2554, 4090, 1641, 4272, 1742, 1203, 1067,  812,  848, 3927,\n",
       "       3622, 2864, 3564, 2714, 2147, 2511, 3525, 3094,  212,  637, 2271,\n",
       "       2660, 2405, 1432,  551, 3134, 2854, 1362, 1274, 3412, 2747,  633,\n",
       "         93, 2126, 2138,  315,  360, 2257, 2325, 3263,  710, 1331, 1878,\n",
       "       3660,  562, 3980, 3789, 1058, 1582,  904, 1291,  239,  473,  400,\n",
       "       3044, 3648,  325, 2343, 3219, 1821, 3933, 3004, 4250, 2340, 3411,\n",
       "        841, 2462,  427, 2671, 1374,  739, 3621, 1037,  189,   29, 3262,\n",
       "       2615, 1104, 2618,  878, 2048,  451,  285, 1467,  382, 3547, 1795,\n",
       "       3799, 3703, 1896,  300, 4245, 2224, 1180, 2930, 3331, 4031, 2735,\n",
       "       3779, 3878, 3968, 2876, 3536, 4010, 3086,  387, 4198, 3906, 2705,\n",
       "       3446, 2202, 3460, 2992, 2398, 1244, 1986,  648, 2047,  507, 1668,\n",
       "        798,  924,  651,  185, 1438, 1464,  152, 2987, 2855, 2664, 3595,\n",
       "       1187, 2197, 3552, 2749,  961,  764, 2391, 1442, 2011, 1002, 1483,\n",
       "        678, 3328, 2397, 2358,  540,  636, 3198,  547, 2137, 3408, 2726,\n",
       "        265, 3597, 1800, 1970, 1682, 1661, 3143, 2866,  574, 1066,  968,\n",
       "       1013, 3299, 2610, 2870, 3830, 4183, 3839,  353,   84, 2799, 2877,\n",
       "        687, 3202, 1938,  705, 4115, 2943, 1036,  791, 1603, 3563, 2021,\n",
       "        104, 2684, 2685, 2724, 1814,  232, 1790, 2750,  694, 1094, 1159,\n",
       "       3904, 1452, 1844, 3814, 1819, 3976,  698, 3436, 1533, 3649, 2628,\n",
       "       1238, 1568, 4052, 4223, 2586, 1716, 2107, 2131, 3780, 3207,  830,\n",
       "       1351, 4257, 3761, 4110, 4146, 2903, 1850,   27,  965, 1109, 2348,\n",
       "       3126, 2454,  266, 3188,  852,  564, 3458, 3018, 3992, 3182, 2248,\n",
       "       1001, 2902, 3069, 1456,  898, 2067, 1825,  514, 2800, 3393, 3677,\n",
       "       2174, 1486, 1400, 2901, 1630,  248, 2401,   36, 3833,  395, 1523,\n",
       "       1504, 3220, 1841, 1740, 4263, 2443, 1200, 1139, 4264, 3338, 1353,\n",
       "       3382, 2254, 1555,  888,  612,  414,  744,  701, 1778,  422, 3543,\n",
       "        521, 3150,  579, 2309,  372, 1011,  803, 2539, 1114, 3243, 1602,\n",
       "       2155, 3845, 2218,   68,  452, 1667, 4184,  139, 1830, 2058, 2205,\n",
       "       3449,  906, 3707, 1364, 1318, 2237, 3103,  845,  381, 2078,  322,\n",
       "       3746, 3051,  257, 1160, 3391,   76, 2581, 3874, 3080,  627, 2196,\n",
       "       2468, 2695, 1266, 4158,  264,  498, 3722,  771,  495, 2458, 4243,\n",
       "       1569, 3700, 1799, 2274, 2588, 1652,  206, 3551, 1912, 1936, 2872,\n",
       "       1197, 4220, 2141, 3083, 2060, 2905,  787,  176, 3977, 3506, 2306,\n",
       "       3530,  323, 1517, 2199, 1709, 3712, 3522, 1692, 1507, 2200, 3180,\n",
       "       2411, 4049,  809,  886, 4256, 2688,  301,  412, 2832, 2939, 3046,\n",
       "       2797, 2321, 3337, 2980,  428, 2213, 2803, 4275, 2073, 2355,  227,\n",
       "       3373, 3402, 1832, 3048, 2089, 1336, 2687,  213, 1520, 1959, 1097,\n",
       "       2261, 1420, 4059, 4241, 3967, 3774, 3609, 3576,  539, 4066, 2831,\n",
       "       2778,  320, 1876, 1752,  116, 4253, 1774, 1669, 3271, 1642, 2136,\n",
       "       2609, 3895, 3060, 2681, 2081, 1419, 4044, 1332, 3969,  345, 1144,\n",
       "       3017,  934, 1416, 4197, 1083,  974,  859, 2904, 2572, 1762, 1684,\n",
       "        628,  622, 1769, 3989,  294, 1256, 1870, 3741,  913, 2760,  854,\n",
       "       1479,  873, 2820, 3727, 4247, 1766, 3301, 2336, 2092, 4280, 1869,\n",
       "       2717, 2111, 3006, 3601, 3040, 3913, 4035, 2888, 3269,  660, 4224,\n",
       "       3351, 3512, 3626, 3573, 3302, 2053,  870, 1143, 2727, 4161, 1149,\n",
       "       1494, 3119, 1847, 1313, 1851, 2758, 4048, 3303, 3548, 3123, 2774,\n",
       "        772, 2641,   98, 1753, 2329,  357,  548,  556, 2730, 3941, 2857,\n",
       "       2028,  170, 1287, 1531, 2746,  226, 3061, 3155, 2177,   90, 3650,\n",
       "       3067, 2608,  333, 4252, 3425, 4233, 2776,  373, 1327, 3144, 1664,\n",
       "       1319, 3867, 2428, 1184,  923, 1659, 1392, 2702, 1550, 3000,  894,\n",
       "       2861, 4041, 1390,  240,  533, 2152, 3808, 1871, 2208, 2149, 1057,\n",
       "       1802, 3956, 2560, 2665,  188, 1052, 1643, 1475, 1570,  101,  476,\n",
       "       2041, 1932, 2813, 1702, 2752, 3882, 2812,   62, 2604,  824])"
      ]
     },
     "execution_count": 28,
     "metadata": {},
     "output_type": "execute_result"
    }
   ],
   "source": [
    "test_index"
   ]
  },
  {
   "cell_type": "code",
   "execution_count": 12,
   "metadata": {},
   "outputs": [],
   "source": [
    "train_index = np.delete(all_index,test_index)"
   ]
  },
  {
   "cell_type": "code",
   "execution_count": 13,
   "metadata": {},
   "outputs": [],
   "source": [
    "Train_X = a1[train_index]\n",
    "Train_Y = b11[train_index]\n",
    "Test_X = a1[test_index]\n",
    "Test_Y = b11[test_index]\n",
    "\n",
    "Test_Y_ori = b1[test_index]"
   ]
  },
  {
   "cell_type": "code",
   "execution_count": 74,
   "metadata": {},
   "outputs": [],
   "source": [
    "with open('/home/sxz/data/geolife_Data/Encoded_data_Cross.pickle', 'wb') as f:\n",
    "    pickle.dump([Train_X, Train_Y, Test_X, Test_Y, Test_Y_ori], f)"
   ]
  },
  {
   "cell_type": "code",
   "execution_count": 75,
   "metadata": {},
   "outputs": [
    {
     "name": "stdout",
     "output_type": "stream",
     "text": [
      "(3428, 1, 31, 128)\n"
     ]
    }
   ],
   "source": [
    "print(np.shape(Train_X))"
   ]
  },
  {
   "cell_type": "code",
   "execution_count": 76,
   "metadata": {},
   "outputs": [],
   "source": [
    "filename = '/home/sxz/data/geolife_Data/paper2_data_for_DL_kfold_dataset_RL.pickle'\n",
    "with open(filename, 'rb') as f:\n",
    "    kfold_dataset, X_unlabeled = pickle.load(f)"
   ]
  },
  {
   "cell_type": "code",
   "execution_count": 78,
   "metadata": {},
   "outputs": [
    {
     "name": "stdout",
     "output_type": "stream",
     "text": [
      "[0 0 4 4 4 4 4 4 4 4 4 4 4 4 4 4 4 4 4 4 4 4 4 4 4 4 4 4 4 4 4 4 4 4 4 4 4\n",
      " 4 4 4 4 4 4 4 4 4 4 4 4 4 4 4 4 4 4 4 4 4 4 4 4 4 4 4 4 4 4 4 4 4 4 4 4 4\n",
      " 0 0 0 0 0 0 0 0 0 0 0 0 0 1 1 1 0 0 1 0 0 0 4 4 4 4 4 4 4 4 4 4 4 4 4 4 4\n",
      " 4 4 4 4 4 4 4 4 4 4 4 4 4 4 4 4 4 4 4 1 1 0 0 0 0 4 4 4 4 4 4 4 4 4 4 4 4\n",
      " 4 4 4 4 4 4 4 4 4 4 4 4 4 4 4 4 4 4 4 4 4 4 4 4 4 4 0 1 0 3 3 0 0 0 0 0 1\n",
      " 1 1 3 0 1 1 1 4 4 4 4 4 2 2 2 2 2 2 2 3 3 0 0 0 0 0 0 1 1 3 3 4 1 1 0 0 0\n",
      " 0 0 2 0 4 4 0 0 0 0 0 0 0 0 0 0 0 0 0 3 2 0 0 0 2 2 2 2 2 2 0 0 1 0 0 1 0\n",
      " 0 0 0 0 0 0 0 0 0 1 0 0 0 0 3 0 0 1 2 0 3 2 0 4 4 4 4 4 4 4 4 4 4 4 4 4 4\n",
      " 4 4 4 4 4 4 4 4 4 4 4 4 4 4 4 4 4 4 4 4 4 4 4 4 4 4 4 4 4 4 4 4 4 4 4 4 4\n",
      " 4 4 4 4 4 4 4 4 4 4 4 4 4 2 2 2 2 2 2 0 1 2 2 2 0 3 3 0 1 1 4 4 4 1 0 0 0\n",
      " 2 2 1 3 4 4 4 4 4 4 4 4 4 4 4 4 4 4 4 4 4 4 4 4 4 4 4 4 4 4 4 4 4 4 4 4 4\n",
      " 4 4 4 4 4 4 4 0 0 0 0 0 0 2 0 2 2 2 0 3 2 2 2 2 2 0 4 4 4 4 4 4 4 0]\n"
     ]
    }
   ],
   "source": [
    "print(kfold_dataset[0][1])"
   ]
  },
  {
   "cell_type": "code",
   "execution_count": 80,
   "metadata": {},
   "outputs": [
    {
     "name": "stdout",
     "output_type": "stream",
     "text": [
      "[0 0 0 0 0 0 0 0 0 0 0 0 0 0 0 0 0 0 0 0 0 0 0 0 1 1 1 1 1 1 1 2 2 2 2 2 2\n",
      " 2 2 2 3 3 3 3 4 4 4 4 4 4 4 4 4 4 4 4 4 4 4 4 4 4 4 4 4 4 4 4 4 4 4 4 4 4\n",
      " 4 4 4 4 4 4 4 4 4 4 4 4 4 4 4 4 4 4 4 4 4 4 4 4 4 4 4 4 4 4 4 4 4 4 4 4]\n"
     ]
    }
   ],
   "source": [
    "print(kfold_dataset[0][4])"
   ]
  },
  {
   "cell_type": "code",
   "execution_count": 83,
   "metadata": {},
   "outputs": [],
   "source": [
    "origin_data = np.concatenate((kfold_dataset[0][1],kfold_dataset[0][4]))"
   ]
  },
  {
   "cell_type": "code",
   "execution_count": 90,
   "metadata": {},
   "outputs": [
    {
     "name": "stdout",
     "output_type": "stream",
     "text": [
      "mode index: 0\n",
      "number of 0 : 122\n",
      "percent of 0 : 0.22141560798548093\n",
      "mode index: 1\n",
      "number of 1 : 33\n",
      "percent of 1 : 0.05989110707803993\n",
      "mode index: 2\n",
      "number of 2 : 46\n",
      "percent of 2 : 0.08348457350272233\n",
      "mode index: 3\n",
      "number of 3 : 18\n",
      "percent of 3 : 0.032667876588021776\n",
      "mode index: 4\n",
      "number of 4 : 332\n",
      "percent of 4 : 0.6025408348457351\n"
     ]
    }
   ],
   "source": [
    "for i in range(5):\n",
    "    a = len(origin_data[origin_data==i])\n",
    "    print(\"mode index: {}\".format(i))\n",
    "    print(\"number of {} : {}\".format(i,a))\n",
    "    print(\"percent of {} : {}\".format(i,a/len(origin_data)))"
   ]
  },
  {
   "cell_type": "code",
   "execution_count": 94,
   "metadata": {},
   "outputs": [
    {
     "name": "stdout",
     "output_type": "stream",
     "text": [
      "mode index: 0\n",
      "number of 0 : 752\n",
      "percent of 0 : 0.17549591598599767\n",
      "mode index: 1\n",
      "number of 1 : 132\n",
      "percent of 1 : 0.030805134189031504\n",
      "mode index: 2\n",
      "number of 2 : 227\n",
      "percent of 2 : 0.052975495915986\n",
      "mode index: 3\n",
      "number of 3 : 54\n",
      "percent of 3 : 0.012602100350058343\n",
      "mode index: 4\n",
      "number of 4 : 3120\n",
      "percent of 4 : 0.7281213535589265\n"
     ]
    }
   ],
   "source": [
    "np.shape(b1)\n",
    "for i in range(5):\n",
    "    a = len(b1[b1==i])\n",
    "    print(\"mode index: {}\".format(i))\n",
    "    print(\"number of {} : {}\".format(i,a))\n",
    "    print(\"percent of {} : {}\".format(i,a/len(b1)))"
   ]
  },
  {
   "cell_type": "code",
   "execution_count": null,
   "metadata": {},
   "outputs": [],
   "source": []
  }
 ],
 "metadata": {
  "kernelspec": {
   "display_name": "Python 3",
   "language": "python",
   "name": "python3"
  },
  "language_info": {
   "codemirror_mode": {
    "name": "ipython",
    "version": 3
   },
   "file_extension": ".py",
   "mimetype": "text/x-python",
   "name": "python",
   "nbconvert_exporter": "python",
   "pygments_lexer": "ipython3",
   "version": "3.7.3"
  }
 },
 "nbformat": 4,
 "nbformat_minor": 4
}
