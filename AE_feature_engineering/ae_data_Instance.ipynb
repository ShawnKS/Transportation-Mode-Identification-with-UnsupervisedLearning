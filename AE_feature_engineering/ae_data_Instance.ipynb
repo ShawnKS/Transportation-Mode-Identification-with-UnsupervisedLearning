{
 "cells": [
  {
   "cell_type": "code",
   "execution_count": 1,
   "metadata": {},
   "outputs": [
    {
     "name": "stderr",
     "output_type": "stream",
     "text": [
      "Using TensorFlow backend.\n"
     ]
    }
   ],
   "source": [
    "import os\n",
    "os.environ[\"CUDA_VISIBLE_DEVICES\"] = \"0,1\"\n",
    "os.environ[\"TF_CPP_MIN_LOG_LEVEL\"] = \"2\"\n",
    "import warnings\n",
    "warnings.filterwarnings(\"ignore\")\n",
    "import numpy as np\n",
    "from sklearn.metrics import classification_report, confusion_matrix, accuracy_score\n",
    "import random\n",
    "import pickle\n",
    "import tensorflow as tf\n",
    "from sklearn.ensemble import RandomForestClassifier\n",
    "from sklearn.svm import SVC\n",
    "from sklearn.model_selection import GridSearchCV\n",
    "import pandas as pd\n",
    "import os\n",
    "from sklearn.decomposition import PCA\n",
    "from sklearn.metrics import precision_score\n",
    "from sklearn.metrics import recall_score\n",
    "from sklearn.metrics import f1_score\n",
    "from sklearn.metrics import roc_auc_score\n",
    "from sklearn.cluster import KMeans\n",
    "import matplotlib.pyplot as plt\n",
    "import keras\n",
    "import sys"
   ]
  },
  {
   "cell_type": "code",
   "execution_count": 2,
   "metadata": {},
   "outputs": [
    {
     "name": "stdout",
     "output_type": "stream",
     "text": [
      "(4285, 31, 128)\n",
      "(4285,)\n"
     ]
    }
   ],
   "source": [
    "with open('/home/sxz/data/geolife_Data/Encoded_data.pickle', 'rb') as f:\n",
    "    a1 , b1 = pickle.load(f)\n",
    "print(np.shape(a1))\n",
    "print(np.shape(b1))"
   ]
  },
  {
   "cell_type": "code",
   "execution_count": 3,
   "metadata": {},
   "outputs": [],
   "source": [
    "b11 = np.zeros([len(b1),5])"
   ]
  },
  {
   "cell_type": "code",
   "execution_count": 4,
   "metadata": {},
   "outputs": [
    {
     "data": {
      "text/plain": [
       "array([[0., 0., 0., 0., 0.],\n",
       "       [0., 0., 0., 0., 0.],\n",
       "       [0., 0., 0., 0., 0.],\n",
       "       ...,\n",
       "       [0., 0., 0., 0., 0.],\n",
       "       [0., 0., 0., 0., 0.],\n",
       "       [0., 0., 0., 0., 0.]])"
      ]
     },
     "execution_count": 4,
     "metadata": {},
     "output_type": "execute_result"
    }
   ],
   "source": [
    "b11"
   ]
  },
  {
   "cell_type": "code",
   "execution_count": 5,
   "metadata": {},
   "outputs": [],
   "source": [
    "for i in range(len(b1)):\n",
    "    b11[i][b1[i]] = 1"
   ]
  },
  {
   "cell_type": "code",
   "execution_count": 34,
   "metadata": {
    "scrolled": true
   },
   "outputs": [
    {
     "name": "stdout",
     "output_type": "stream",
     "text": [
      "[729 240  74 456 117 159 140  24 689 500 469  39 132 579  55 512   8 694\n",
      " 146 554 439 288 498 648 241 613 451 601 433 111 589 138 262 627 315  73\n",
      " 647   5 375 223 220 182 425 207 650 748 300  11 217 419 450 130 290 264\n",
      " 296  96 620  48 503 303 373 408 644 310 401 122 513 183 561 546 179 136\n",
      " 165 166 495 157 260  58 612 684 301 520  54 584  80 623 367 455 294 553\n",
      " 405 248 331 663 558 591  91 204 102 320  52 399  46 670 212  77  36 388\n",
      " 422 745 368 732 730 477 108 280 606 218 664 173 247 385 160 312 101 478\n",
      " 292 266 531  23 505 680 671 592 516 327 598 381 308 674 662  17 706 407\n",
      " 507 617 611 339 219 186 154 396  34  98   0 297 424 226 610 735  88 352\n",
      " 523  31 393 277 244 201 618 525 590 566 194 673 462 452 391 634 467 341\n",
      " 232 128 550 654 156  76 420 595 746 551 171 344 659 190 242 330 747 185\n",
      " 357 582]\n"
     ]
    },
    {
     "data": {
      "text/plain": [
       "array([3556,  946,   74, 2575,  117,  865,  140,   24, 3516, 2619, 2588,\n",
       "         39,  132, 2698,   55, 2631,    8, 3521,  146, 2673, 1853,  994,\n",
       "       2617, 3475,  947, 3440, 2570, 2720, 1847,  111, 2708,  138,  968,\n",
       "       3454, 1729,   73, 3474,    5, 1789,  929,  926,  888, 1839,  913,\n",
       "       3477, 3575, 1006,   11,  923, 1833, 1864,  130,  996,  970, 1002,\n",
       "         96, 3447,   48, 2622, 1717, 1787, 1822, 3471, 1724, 1815,  122,\n",
       "       2632,  889, 2680, 2665,  885,  136,  871,  872, 2614,  863,  966,\n",
       "         58, 3439, 3511, 1715, 2639,   54, 2703,   80, 3450, 1781, 2574,\n",
       "       1000, 2672, 1819,  954, 1745, 3490, 2677, 2710,   91,  910,  102,\n",
       "       1734,   52, 1813,   46, 3497,  918,   77,   36, 1802, 1836, 3572,\n",
       "       1782, 3559, 3557, 2596,  108,  986, 3433,  924, 3491,  879,  953,\n",
       "       1799,  866, 1726,  101, 2597,  998,  972, 2650,   23, 2624, 3507,\n",
       "       3498, 2711, 2635, 1741, 2717, 1795, 1722, 3501, 3489,   17, 3533,\n",
       "       1821, 2626, 3444, 3438, 1753,  925,  892,  860, 1810,   34,   98,\n",
       "          0, 1003, 1838,  932, 3437, 3562,   88, 1766, 2642,   31, 1807,\n",
       "        983,  950,  907, 3445, 2644, 2709, 2685,  900, 3500, 2581, 2571,\n",
       "       1805, 3461, 2586, 1755,  938,  128, 2669, 3481,  862,   76, 1834,\n",
       "       2714, 3573, 2670,  877, 1758, 3486,  896,  948, 1744, 3574,  891,\n",
       "       1771, 2701])"
      ]
     },
     "execution_count": 34,
     "metadata": {},
     "output_type": "execute_result"
    }
   ],
   "source": [
    "len(b1[b1==0])\n",
    "# print(np.where(b1==0))\n",
    "\n",
    "random_b = np.random.choice(len(np.where(b1==0)[0]) , size=round(200), replace=False, p=None)\n",
    "\n",
    "print(random_b)\n",
    "\n",
    "np.where(b1==0)[0][random_b]\n",
    "\n",
    "Train_X_tmp = a1[train_index_ez]\n",
    "Train_Y_tmp = b11[train_index_ez]"
   ]
  },
  {
   "cell_type": "code",
   "execution_count": 6,
   "metadata": {},
   "outputs": [
    {
     "data": {
      "text/plain": [
       "array([[1., 0., 0., 0., 0.],\n",
       "       [1., 0., 0., 0., 0.],\n",
       "       [1., 0., 0., 0., 0.],\n",
       "       ...,\n",
       "       [0., 0., 0., 0., 1.],\n",
       "       [0., 0., 0., 0., 1.],\n",
       "       [0., 0., 0., 0., 1.]])"
      ]
     },
     "execution_count": 6,
     "metadata": {},
     "output_type": "execute_result"
    }
   ],
   "source": [
    "b11"
   ]
  },
  {
   "cell_type": "code",
   "execution_count": 7,
   "metadata": {},
   "outputs": [],
   "source": [
    "a1 = a1.reshape(4285,1,31,128)"
   ]
  },
  {
   "cell_type": "code",
   "execution_count": 8,
   "metadata": {},
   "outputs": [],
   "source": [
    "all_index = np.arange(0,len(a1))"
   ]
  },
  {
   "cell_type": "code",
   "execution_count": 9,
   "metadata": {},
   "outputs": [
    {
     "data": {
      "text/plain": [
       "array([   0,    1,    2, ..., 4282, 4283, 4284])"
      ]
     },
     "execution_count": 9,
     "metadata": {},
     "output_type": "execute_result"
    }
   ],
   "source": [
    "all_index"
   ]
  },
  {
   "cell_type": "code",
   "execution_count": 10,
   "metadata": {},
   "outputs": [],
   "source": [
    "test_index = np.random.choice(all_index, size=round(0.2*len(all_index)), replace=False, p=None)"
   ]
  },
  {
   "cell_type": "code",
   "execution_count": 11,
   "metadata": {
    "scrolled": true
   },
   "outputs": [
    {
     "data": {
      "text/plain": [
       "array([2865, 2108, 2019, 4040, 2206, 2334,  397,  964,  331, 3151,  113,\n",
       "       1315, 3100, 1718, 3532, 1478, 2572, 3271, 3048, 4202, 2633, 1487,\n",
       "       2107, 2322,  803, 1230, 3697,  328, 3628, 2116, 3974, 3087, 3875,\n",
       "       2665, 1953, 2423,  559, 1645, 2472, 2037,  391,  642, 1543, 2141,\n",
       "       2761,  402,  151,  177, 1216, 1895,  810,  894,  298, 2099, 3553,\n",
       "       2858, 1708, 3932,  432, 3777, 1008, 1483, 3167, 3581, 4193, 1580,\n",
       "       1711, 1734,  948, 3799, 2931, 3067, 3889, 2520,  689, 3871, 3397,\n",
       "       1554, 1014, 3054, 3328,  350,  104,  846, 2895, 3043, 3678,  531,\n",
       "       3018,   96, 4005, 1985, 1284, 1755,  911, 3428,  207,  199, 3830,\n",
       "       1575, 2127, 3447, 3637, 3032, 1085,   81, 3615,  593, 1102, 3583,\n",
       "       2907, 1223,  682, 2380, 1410, 3217, 2809,  393, 1507, 2902, 3490,\n",
       "       1963, 3489, 2053, 3560, 1308, 3276, 1686, 1997,  949,  889, 2344,\n",
       "       1939, 2172, 2476, 2663, 4082, 3677, 1235, 3629,   85, 2006, 3207,\n",
       "       1522, 1040, 1486, 3310, 2661, 1252, 2698,  880,  876, 3576, 2301,\n",
       "       1964, 1837,  798, 2078, 1233, 4208, 2449, 2233, 1681, 1228, 3588,\n",
       "        666, 3650, 1937,  763, 1462, 1495, 1515, 1302,  599, 2549,  143,\n",
       "       1391, 3934, 2986, 1509,  896, 3174, 2920, 2957, 1528, 2070, 1181,\n",
       "        462,  394,   25,  283, 3362,  577,  392, 1086, 1352, 1920, 2983,\n",
       "       3655, 2208, 1206, 1450, 3505,  345, 3301,  493, 1649, 2878, 1432,\n",
       "       3569,    6,  162, 4059, 1407, 2935,  310, 3913, 1244, 2548, 1346,\n",
       "       2119, 1355, 1898, 2967, 1394,  133, 2606, 1700,  654, 3834, 1886,\n",
       "       3849,  114, 1818, 4282, 2191,  243, 1292, 2133, 3046, 3847, 1803,\n",
       "        259,  767,  219, 3595, 3817, 3631, 3935, 2210,   28, 3471, 2797,\n",
       "       3723,  164, 1042, 3231,   70,   10, 2484,  398, 2976, 3827, 3592,\n",
       "       4252, 3670,  624, 2470,  766,  916, 1165, 3399, 3154, 3357, 1720,\n",
       "       2094, 2590, 3756, 4039, 3511, 3111,  122,  863, 3988, 2607, 4272,\n",
       "          0,  149,  738, 1222, 1606, 3159, 2338, 2431, 1914, 2368,  447,\n",
       "       2544,  995, 1412,  941,  645,  325, 2028, 2732, 3981, 1669, 1179,\n",
       "       1440, 3273, 4244,  337, 2911,  249, 1130, 3476, 1358,  926, 1892,\n",
       "       3813,  484, 2421,  423, 2871, 2041,  568, 4249,  549, 4024, 4113,\n",
       "        769, 1298, 2743, 2864, 2994,  412, 4278, 3788, 1728,  796, 2677,\n",
       "       1382, 1850, 1747,  206, 1291, 1095, 1668, 4182, 1661, 3069, 1980,\n",
       "        396, 3197, 1822, 2501, 3404, 1551, 1499, 3378, 1667, 2111,  125,\n",
       "       2752, 3614, 2834, 2769, 3059, 1876,  558,  375, 2516,  341, 4017,\n",
       "       1398, 1021,  205, 1940, 3658, 2754,  928, 2498,   44, 2117, 4269,\n",
       "       4143, 1069, 3731, 1473,  582, 1943, 1766, 3330, 2109, 3691, 3237,\n",
       "       3622, 4055, 3841, 4083,  468, 1665, 2749, 2887, 3247, 2844,  657,\n",
       "       2651, 1501, 3269, 1258, 2725,  786,    1, 1156,  681, 2973, 2635,\n",
       "       2702, 2180,  251, 2062, 1285, 3225, 1775, 3975, 1786,  420, 2951,\n",
       "       3110, 3924, 3373, 3803,  659,  997, 2223, 2286,  264,  747, 3030,\n",
       "       1589, 1400, 1256, 1740,   73, 2747, 2831, 2013, 1536,  943,  597,\n",
       "       3402, 2741, 1812, 1162, 1846, 3198,  968, 1250,  620, 3038,  678,\n",
       "        250, 3128, 3480, 1064, 1427, 2995,  602, 3380, 3947, 3123, 2517,\n",
       "       3463,  702, 3185,  844,  765,  482, 3840, 3514, 4145, 3729,  223,\n",
       "       2372, 3085, 3870, 4002, 2345, 3498, 2925, 3028,    3, 2445, 2270,\n",
       "          8, 3478, 3200, 2439, 2419, 4199, 3000,  112,  116,  768, 3488,\n",
       "        499,  233, 1189, 3640, 1780,  311,  360,  910,   35,  764, 3049,\n",
       "       4246,  951,  158, 1579,  934, 4187, 3347,   93, 3785, 4192, 4277,\n",
       "       3740, 1629,  633, 3872, 3349, 4110, 3923, 1596, 3459, 3238, 1100,\n",
       "       2378, 2955, 1868,  960, 1658, 1225,  710, 3916, 2940, 1435, 2541,\n",
       "       1600, 1520, 3791,  834,  805,  691, 1310, 1572, 1782, 1693, 1259,\n",
       "       4013, 2772, 2845, 3741, 3784, 3705,  354, 3003, 1436, 2646, 3106,\n",
       "       1161, 1744, 3868, 1020, 1349, 2242, 1710, 2981, 2264, 4224, 1330,\n",
       "       2975, 2927,  100, 3126, 1883, 3556, 1809, 3089, 1068, 2153, 1295,\n",
       "       1654, 1073, 2881, 3409, 1234, 3241,  532,  221, 3221, 1239, 1136,\n",
       "       1873, 2330, 3446,  679, 4212, 2855,  165, 3233, 1461, 2051, 1220,\n",
       "       1784, 2178, 1973,  473,  590, 3375, 1795, 2657, 1347, 1650,  685,\n",
       "        589, 3441, 1965,  229,  999,  897, 1094, 2530, 2745,  203, 2396,\n",
       "        234,  535, 1527,  899, 1049,  973, 1320, 3976, 2084, 2000, 2678,\n",
       "       4025, 2266, 3147,   51,  815, 2257,  194, 1321, 3682, 2362,  175,\n",
       "       2776, 3624, 3689, 2618, 2448,  709,  879,  789, 3797, 2306, 1927,\n",
       "       2342, 1420, 1750, 1153, 3881, 3727, 2810,  543, 4061, 1041, 3919,\n",
       "        757,  456, 1282, 4258,   91,  266, 2659, 1033, 4155, 1356, 4281,\n",
       "       2675, 3575, 3806, 2829, 3129,  471, 2429,  429,  490, 2441, 2481,\n",
       "       2879, 1401, 2433, 3146, 3860, 1879, 3701, 2867, 3971,  459, 1856,\n",
       "       3133, 3425, 2464, 1059,  313, 2574, 2033, 2348, 3377, 2186, 3486,\n",
       "        714, 2444, 4234, 1900, 3758, 1468, 2280, 1178, 3033, 1309,  583,\n",
       "       3684, 1593, 2563, 3470,  886, 3610, 2905,  131,   80, 1366, 1117,\n",
       "       3168,  866, 3394, 2886, 1106, 3789, 2169, 3244, 4093, 3180, 2898,\n",
       "        855, 2631, 4142,  698, 2243, 3422, 4099, 4201, 1694, 1709, 3861,\n",
       "       3987, 2080, 1823, 4111, 3350, 1716, 3391, 1592, 1120, 1082, 3179,\n",
       "       1534,  400, 2088, 2057, 2311, 4217, 3121, 4101,  546, 1443, 3092,\n",
       "       1689,  675, 3224, 3653, 2506, 3158, 2711, 1779, 2705, 3999, 1691,\n",
       "       2527, 3246,  115, 3416, 4210,  717, 2551, 1359, 1653,   52, 3694,\n",
       "       2282, 2917, 3970, 3047, 4177, 1906,  752, 1768, 2966, 4041, 2046,\n",
       "       2979, 3055, 3679, 1500, 3962, 1149, 2511, 3918, 1598,  495, 2673,\n",
       "       1207,  108, 1385, 4156, 2919, 2904, 2229, 3808,  520,  778, 2893,\n",
       "        591,  782, 2194, 3351, 3205, 3905, 3814, 4136, 3955, 2001])"
      ]
     },
     "execution_count": 11,
     "metadata": {},
     "output_type": "execute_result"
    }
   ],
   "source": [
    "test_index"
   ]
  },
  {
   "cell_type": "code",
   "execution_count": 12,
   "metadata": {},
   "outputs": [],
   "source": [
    "train_index = np.delete(all_index,test_index)"
   ]
  },
  {
   "cell_type": "code",
   "execution_count": 13,
   "metadata": {},
   "outputs": [],
   "source": [
    "Train_X = a1[train_index]\n",
    "Train_Y = b11[train_index]\n",
    "Test_X = a1[test_index]\n",
    "Test_Y = b11[test_index]\n",
    "\n",
    "Test_Y_ori = b1[test_index]"
   ]
  },
  {
   "cell_type": "code",
   "execution_count": 74,
   "metadata": {},
   "outputs": [],
   "source": [
    "with open('/home/sxz/data/geolife_Data/Encoded_data_Cross.pickle', 'wb') as f:\n",
    "    pickle.dump([Train_X, Train_Y, Test_X, Test_Y, Test_Y_ori], f)"
   ]
  },
  {
   "cell_type": "code",
   "execution_count": 75,
   "metadata": {},
   "outputs": [
    {
     "name": "stdout",
     "output_type": "stream",
     "text": [
      "(3428, 1, 31, 128)\n"
     ]
    }
   ],
   "source": [
    "print(np.shape(Train_X))"
   ]
  },
  {
   "cell_type": "code",
   "execution_count": 76,
   "metadata": {},
   "outputs": [],
   "source": [
    "filename = '/home/sxz/data/geolife_Data/paper2_data_for_DL_kfold_dataset_RL.pickle'\n",
    "with open(filename, 'rb') as f:\n",
    "    kfold_dataset, X_unlabeled = pickle.load(f)"
   ]
  },
  {
   "cell_type": "code",
   "execution_count": 78,
   "metadata": {},
   "outputs": [
    {
     "name": "stdout",
     "output_type": "stream",
     "text": [
      "[0 0 4 4 4 4 4 4 4 4 4 4 4 4 4 4 4 4 4 4 4 4 4 4 4 4 4 4 4 4 4 4 4 4 4 4 4\n",
      " 4 4 4 4 4 4 4 4 4 4 4 4 4 4 4 4 4 4 4 4 4 4 4 4 4 4 4 4 4 4 4 4 4 4 4 4 4\n",
      " 0 0 0 0 0 0 0 0 0 0 0 0 0 1 1 1 0 0 1 0 0 0 4 4 4 4 4 4 4 4 4 4 4 4 4 4 4\n",
      " 4 4 4 4 4 4 4 4 4 4 4 4 4 4 4 4 4 4 4 1 1 0 0 0 0 4 4 4 4 4 4 4 4 4 4 4 4\n",
      " 4 4 4 4 4 4 4 4 4 4 4 4 4 4 4 4 4 4 4 4 4 4 4 4 4 4 0 1 0 3 3 0 0 0 0 0 1\n",
      " 1 1 3 0 1 1 1 4 4 4 4 4 2 2 2 2 2 2 2 3 3 0 0 0 0 0 0 1 1 3 3 4 1 1 0 0 0\n",
      " 0 0 2 0 4 4 0 0 0 0 0 0 0 0 0 0 0 0 0 3 2 0 0 0 2 2 2 2 2 2 0 0 1 0 0 1 0\n",
      " 0 0 0 0 0 0 0 0 0 1 0 0 0 0 3 0 0 1 2 0 3 2 0 4 4 4 4 4 4 4 4 4 4 4 4 4 4\n",
      " 4 4 4 4 4 4 4 4 4 4 4 4 4 4 4 4 4 4 4 4 4 4 4 4 4 4 4 4 4 4 4 4 4 4 4 4 4\n",
      " 4 4 4 4 4 4 4 4 4 4 4 4 4 2 2 2 2 2 2 0 1 2 2 2 0 3 3 0 1 1 4 4 4 1 0 0 0\n",
      " 2 2 1 3 4 4 4 4 4 4 4 4 4 4 4 4 4 4 4 4 4 4 4 4 4 4 4 4 4 4 4 4 4 4 4 4 4\n",
      " 4 4 4 4 4 4 4 0 0 0 0 0 0 2 0 2 2 2 0 3 2 2 2 2 2 0 4 4 4 4 4 4 4 0]\n"
     ]
    }
   ],
   "source": [
    "print(kfold_dataset[0][1])"
   ]
  },
  {
   "cell_type": "code",
   "execution_count": 80,
   "metadata": {},
   "outputs": [
    {
     "name": "stdout",
     "output_type": "stream",
     "text": [
      "[0 0 0 0 0 0 0 0 0 0 0 0 0 0 0 0 0 0 0 0 0 0 0 0 1 1 1 1 1 1 1 2 2 2 2 2 2\n",
      " 2 2 2 3 3 3 3 4 4 4 4 4 4 4 4 4 4 4 4 4 4 4 4 4 4 4 4 4 4 4 4 4 4 4 4 4 4\n",
      " 4 4 4 4 4 4 4 4 4 4 4 4 4 4 4 4 4 4 4 4 4 4 4 4 4 4 4 4 4 4 4 4 4 4 4 4]\n"
     ]
    }
   ],
   "source": [
    "print(kfold_dataset[0][4])"
   ]
  },
  {
   "cell_type": "code",
   "execution_count": 83,
   "metadata": {},
   "outputs": [],
   "source": [
    "origin_data = np.concatenate((kfold_dataset[0][1],kfold_dataset[0][4]))"
   ]
  },
  {
   "cell_type": "code",
   "execution_count": 90,
   "metadata": {},
   "outputs": [
    {
     "name": "stdout",
     "output_type": "stream",
     "text": [
      "mode index: 0\n",
      "number of 0 : 122\n",
      "percent of 0 : 0.22141560798548093\n",
      "mode index: 1\n",
      "number of 1 : 33\n",
      "percent of 1 : 0.05989110707803993\n",
      "mode index: 2\n",
      "number of 2 : 46\n",
      "percent of 2 : 0.08348457350272233\n",
      "mode index: 3\n",
      "number of 3 : 18\n",
      "percent of 3 : 0.032667876588021776\n",
      "mode index: 4\n",
      "number of 4 : 332\n",
      "percent of 4 : 0.6025408348457351\n"
     ]
    }
   ],
   "source": [
    "for i in range(5):\n",
    "    a = len(origin_data[origin_data==i])\n",
    "    print(\"mode index: {}\".format(i))\n",
    "    print(\"number of {} : {}\".format(i,a))\n",
    "    print(\"percent of {} : {}\".format(i,a/len(origin_data)))"
   ]
  },
  {
   "cell_type": "code",
   "execution_count": 94,
   "metadata": {},
   "outputs": [
    {
     "name": "stdout",
     "output_type": "stream",
     "text": [
      "mode index: 0\n",
      "number of 0 : 752\n",
      "percent of 0 : 0.17549591598599767\n",
      "mode index: 1\n",
      "number of 1 : 132\n",
      "percent of 1 : 0.030805134189031504\n",
      "mode index: 2\n",
      "number of 2 : 227\n",
      "percent of 2 : 0.052975495915986\n",
      "mode index: 3\n",
      "number of 3 : 54\n",
      "percent of 3 : 0.012602100350058343\n",
      "mode index: 4\n",
      "number of 4 : 3120\n",
      "percent of 4 : 0.7281213535589265\n"
     ]
    }
   ],
   "source": [
    "np.shape(b1)\n",
    "for i in range(5):\n",
    "    a = len(b1[b1==i])\n",
    "    print(\"mode index: {}\".format(i))\n",
    "    print(\"number of {} : {}\".format(i,a))\n",
    "    print(\"percent of {} : {}\".format(i,a/len(b1)))"
   ]
  },
  {
   "cell_type": "code",
   "execution_count": null,
   "metadata": {},
   "outputs": [],
   "source": []
  }
 ],
 "metadata": {
  "kernelspec": {
   "display_name": "Python 3",
   "language": "python",
   "name": "python3"
  },
  "language_info": {
   "codemirror_mode": {
    "name": "ipython",
    "version": 3
   },
   "file_extension": ".py",
   "mimetype": "text/x-python",
   "name": "python",
   "nbconvert_exporter": "python",
   "pygments_lexer": "ipython3",
   "version": "3.7.3"
  }
 },
 "nbformat": 4,
 "nbformat_minor": 4
}
