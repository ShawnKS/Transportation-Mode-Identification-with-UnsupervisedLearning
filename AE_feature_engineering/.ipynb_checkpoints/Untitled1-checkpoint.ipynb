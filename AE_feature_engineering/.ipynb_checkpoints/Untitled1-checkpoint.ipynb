{
 "cells": [
  {
   "cell_type": "code",
   "execution_count": 1,
   "metadata": {},
   "outputs": [
    {
     "name": "stderr",
     "output_type": "stream",
     "text": [
      "Using TensorFlow backend.\n"
     ]
    }
   ],
   "source": [
    "import os\n",
    "os.environ[\"CUDA_VISIBLE_DEVICES\"] = \"0,1\"\n",
    "os.environ[\"TF_CPP_MIN_LOG_LEVEL\"] = \"2\"\n",
    "import warnings\n",
    "warnings.filterwarnings(\"ignore\")\n",
    "import numpy as np\n",
    "from sklearn.metrics import classification_report, confusion_matrix, accuracy_score\n",
    "import random\n",
    "import pickle\n",
    "import tensorflow as tf\n",
    "from sklearn.ensemble import RandomForestClassifier\n",
    "from sklearn.svm import SVC\n",
    "from sklearn.model_selection import GridSearchCV\n",
    "import pandas as pd\n",
    "import os\n",
    "from sklearn.decomposition import PCA\n",
    "from sklearn.metrics import precision_score\n",
    "from sklearn.metrics import recall_score\n",
    "from sklearn.metrics import f1_score\n",
    "from sklearn.metrics import roc_auc_score\n",
    "from sklearn.cluster import KMeans\n",
    "import matplotlib.pyplot as plt\n",
    "import keras\n",
    "import sys"
   ]
  },
  {
   "cell_type": "code",
   "execution_count": 3,
   "metadata": {},
   "outputs": [],
   "source": [
    "filename = '/home/sxz/data/geolife_Data/Origin_data_Cross.pickle'\n",
    "with open(filename, 'rb') as f:\n",
    "    kfold_dataset2 = pickle.load(f)"
   ]
  },
  {
   "cell_type": "code",
   "execution_count": 8,
   "metadata": {},
   "outputs": [
    {
     "data": {
      "text/plain": [
       "(441, 5)"
      ]
     },
     "execution_count": 8,
     "metadata": {},
     "output_type": "execute_result"
    }
   ],
   "source": [
    "np.shape(kfold_dataset2[1])"
   ]
  },
  {
   "cell_type": "code",
   "execution_count": 13,
   "metadata": {},
   "outputs": [],
   "source": [
    "Test_X = np.concatenate((kfold_dataset2[0], kfold_dataset2[2]))"
   ]
  },
  {
   "cell_type": "code",
   "execution_count": 21,
   "metadata": {},
   "outputs": [],
   "source": [
    "Test_Y = np.concatenate((kfold_dataset2[1], kfold_dataset2[3]))"
   ]
  },
  {
   "cell_type": "code",
   "execution_count": 15,
   "metadata": {},
   "outputs": [
    {
     "name": "stdout",
     "output_type": "stream",
     "text": [
      "(551, 1, 248, 4)\n",
      "(551, 5)\n"
     ]
    }
   ],
   "source": [
    "print(np.shape(Test_X))\n",
    "print(np.shape(Test_Y))"
   ]
  },
  {
   "cell_type": "code",
   "execution_count": 39,
   "metadata": {},
   "outputs": [],
   "source": [
    "with open('/home/sxz/data/geolife_Data/test_Data.pickle', 'wb') as f:\n",
    "    pickle.dump([Test_X , Test_Y ,Test_Y_ori], f)"
   ]
  },
  {
   "cell_type": "code",
   "execution_count": null,
   "metadata": {},
   "outputs": [],
   "source": []
  },
  {
   "cell_type": "code",
   "execution_count": 40,
   "metadata": {},
   "outputs": [],
   "source": [
    "Test_Y_ori = np.zeros((len(Test_Y)))"
   ]
  },
  {
   "cell_type": "code",
   "execution_count": 41,
   "metadata": {},
   "outputs": [
    {
     "name": "stdout",
     "output_type": "stream",
     "text": [
      "[[1. 0. 0. 0. 0.]\n",
      " [1. 0. 0. 0. 0.]\n",
      " [0. 0. 0. 0. 1.]\n",
      " ...\n",
      " [0. 0. 0. 0. 1.]\n",
      " [0. 0. 0. 0. 1.]\n",
      " [0. 0. 0. 0. 1.]]\n"
     ]
    }
   ],
   "source": [
    "print(Test_Y)"
   ]
  },
  {
   "cell_type": "code",
   "execution_count": 42,
   "metadata": {},
   "outputs": [],
   "source": [
    "for i in range(len(Test_Y)):\n",
    "    Test_Y_ori[i] = np.argwhere(Test_Y[i]==1)[0]"
   ]
  },
  {
   "cell_type": "code",
   "execution_count": null,
   "metadata": {},
   "outputs": [],
   "source": []
  },
  {
   "cell_type": "code",
   "execution_count": 35,
   "metadata": {},
   "outputs": [],
   "source": [
    "with open('/home/sxz/data/geolife_Data/test_Data.pickle', 'rb') as f:\n",
    "    a, b, c = pickle.load(f)"
   ]
  },
  {
   "cell_type": "code",
   "execution_count": null,
   "metadata": {},
   "outputs": [],
   "source": []
  },
  {
   "cell_type": "code",
   "execution_count": null,
   "metadata": {},
   "outputs": [],
   "source": []
  },
  {
   "cell_type": "code",
   "execution_count": 2,
   "metadata": {},
   "outputs": [],
   "source": [
    "with open('/home/sxz/data/geolife_Data/paper2_Trajectory_Label.pickle', 'rb') as f:\n",
    "    a, b = pickle.load(f)"
   ]
  },
  {
   "cell_type": "code",
   "execution_count": 13,
   "metadata": {},
   "outputs": [
    {
     "name": "stdout",
     "output_type": "stream",
     "text": [
      "69\n"
     ]
    }
   ],
   "source": [
    "print(len(a))"
   ]
  },
  {
   "cell_type": "code",
   "execution_count": 15,
   "metadata": {},
   "outputs": [],
   "source": [
    "#69个有标签文件夹，182个无标签文件夹"
   ]
  },
  {
   "cell_type": "code",
   "execution_count": 24,
   "metadata": {},
   "outputs": [
    {
     "name": "stdout",
     "output_type": "stream",
     "text": [
      "161873\n",
      "24715105\n"
     ]
    }
   ],
   "source": [
    "sum_label = 0\n",
    "sum_unlabel =0\n",
    "for i in range(len(a)):\n",
    "    sum_label += len(a[i])\n",
    "for i in range(len(b)):\n",
    "    sum_unlabel += len(b[i])\n",
    "    \n",
    "print(sum_label)\n",
    "print(sum_unlabel)"
   ]
  },
  {
   "cell_type": "code",
   "execution_count": 25,
   "metadata": {},
   "outputs": [],
   "source": [
    "# 161873个有标签的点\n",
    "# 24715105个无标签的点"
   ]
  },
  {
   "cell_type": "code",
   "execution_count": 28,
   "metadata": {},
   "outputs": [],
   "source": [
    "filename = '/home/sxz/data/geolife_Data/paper2_trips_motion_features_temp.pickle'\n",
    "with open(filename, 'rb') as f:\n",
    "    trip_motion_all_user_with_label, trip_motion_all_user_wo_label = pickle.load(f)"
   ]
  },
  {
   "cell_type": "code",
   "execution_count": 41,
   "metadata": {},
   "outputs": [
    {
     "name": "stdout",
     "output_type": "stream",
     "text": [
      "(69,)\n",
      "(182,)\n"
     ]
    }
   ],
   "source": [
    "print(np.shape(trip_motion_all_user_with_label))\n",
    "print(np.shape(trip_motion_all_user_wo_label))"
   ]
  },
  {
   "cell_type": "code",
   "execution_count": 47,
   "metadata": {},
   "outputs": [
    {
     "data": {
      "text/plain": [
       "(array([[ 2.75557264e+02,  1.03823976e+02,  1.50543764e+02,\n",
       "          9.91047870e+01,  2.15469791e+02,  8.97966975e+01,\n",
       "          8.15742901e+01,  3.35543751e+02,  6.84982945e+01,\n",
       "          5.55762497e+01,  1.01821176e+02,  4.15086456e+01,\n",
       "          4.80089182e+01,  4.97034926e+01,  2.03400547e+02,\n",
       "          8.67993851e+02,  1.41145096e+02,  1.05848398e+02,\n",
       "          9.04802697e+01,  2.57576343e+02,  5.38706367e+01,\n",
       "          3.68150026e+01,  2.55221558e+02,  9.23438529e+01,\n",
       "          3.05472539e+02,  2.57583011e+02,  3.59258803e+01,\n",
       "          9.15709002e+01,  1.52686755e+02,  4.25702791e+02,\n",
       "          2.02970587e+01,  1.01466978e+02,  5.78078797e+01,\n",
       "          2.66230196e+01,  3.65113495e+01,  4.19054819e+01,\n",
       "          3.91712490e+01,  2.33222175e+01,  5.59144008e+01],\n",
       "        [ 3.19999937e+01,  1.60000012e+01,  2.00000015e+01,\n",
       "          1.09999988e+01,  2.10000037e+01,  8.00000061e+00,\n",
       "          6.99999849e+00,  4.59999994e+01,  9.99999668e+00,\n",
       "          8.00000061e+00,  1.60000012e+01,  6.99999849e+00,\n",
       "          6.99999849e+00,  8.00000061e+00,  2.40000018e+01,\n",
       "          6.89999992e+01,  1.00000049e+01,  8.00000061e+00,\n",
       "          6.99999849e+00,  2.19999976e+01,  9.00000273e+00,\n",
       "          1.09999988e+01,  2.59999979e+01,  9.00000273e+00,\n",
       "          2.89999955e+01,  3.10000003e+01,  9.00000336e+00,\n",
       "          6.20000007e+01,  1.39999964e+01,  9.00000028e+01,\n",
       "          6.99999849e+00,  2.00000015e+01,  1.60000012e+01,\n",
       "          6.99999849e+00,  8.00000061e+00,  1.09999988e+01,\n",
       "          9.99999668e+00,  9.00000273e+00,  1.30000030e+01],\n",
       "        [ 2.46443761e-01,  1.59992281e-01,  1.96931382e-01,\n",
       "          1.38846066e-01,  9.39647390e-02,  3.82095328e-02,\n",
       "          3.74055291e-01,  6.09503106e-02,  1.41899769e-02,\n",
       "          8.39506384e-02,  6.82003926e-02,  1.56600450e-01,\n",
       "          9.41153236e-02,  3.64092918e-01,  4.84317207e-01,\n",
       "          1.22013341e-01,  6.25919347e-02,  2.30739948e-02,\n",
       "          9.42102538e-02,  4.88758468e-01,  4.40857209e-01,\n",
       "          1.93299853e+00,  4.52527231e-02,  2.66180483e-02,\n",
       "          2.11173898e-01,  5.19593107e-01,  6.30000581e-01,\n",
       "          6.38427143e+00,  5.66298890e-01,  3.86984880e-01,\n",
       "          7.49683662e-01,  2.87848609e-01,  5.26702295e-02,\n",
       "          1.99992411e-01,  1.65280928e-01,  2.82278480e-02,\n",
       "          3.38454626e-01,  6.59789529e-01,  2.62804949e-01],\n",
       "        [ 8.61116620e+00,  6.48899802e+00,  7.52718761e+00,\n",
       "          9.00952707e+00,  1.02604645e+01,  1.12245863e+01,\n",
       "          1.16534725e+01,  7.29442947e+00,  6.84983173e+00,\n",
       "          6.94703068e+00,  6.36382302e+00,  5.92980779e+00,\n",
       "          6.85841836e+00,  6.21293610e+00,  8.47502213e+00,\n",
       "          1.25796212e+01,  1.41145028e+01,  1.32310488e+01,\n",
       "          1.29257556e+01,  1.17080169e+01,  5.98562449e+00,\n",
       "          3.34681878e+00,  9.81621455e+00,  1.02604250e+01,\n",
       "          1.05335375e+01,  8.30912930e+00,  3.99176299e+00,\n",
       "          1.47694999e+00,  1.09061996e+01,  4.73003087e+00,\n",
       "          2.89958044e+00,  5.07334852e+00,  3.61299221e+00,\n",
       "          3.80328934e+00,  4.56391834e+00,  3.80958968e+00,\n",
       "          3.91712620e+00,  2.59135672e+00,  4.30110675e+00],\n",
       "        [-6.63177688e-02,  6.48868445e-02,  7.41169673e-02,\n",
       "          1.13721594e-01,  4.59105570e-02,  5.36107709e-02,\n",
       "         -6.22720571e-01, -9.66516842e-03,  9.71989861e-03,\n",
       "         -7.29009520e-02, -2.71259497e-02,  1.32658681e-01,\n",
       "         -9.22117717e-02,  2.82760732e-01,  1.71024947e-01,\n",
       "          2.22446613e-02, -8.83453608e-02, -3.81616409e-02,\n",
       "         -1.73962711e-01, -2.60108774e-01, -2.93200545e-01,\n",
       "          5.88126952e-01,  1.70850183e-02,  3.03458227e-02,\n",
       "         -7.67037419e-02, -1.39269880e-01, -2.79423563e-01,\n",
       "          1.52084670e-01, -4.41155024e-01, -2.03383374e-02,\n",
       "          3.10538364e-01, -7.30178103e-02,  1.18935696e-02,\n",
       "          1.08661309e-01, -9.42910750e-02,  9.77604820e-03,\n",
       "         -1.32576992e-01,  1.89972168e-01, -8.69501441e-02],\n",
       "        [ 4.10014498e-03,  5.76882630e-04,  1.98023116e-03,\n",
       "         -6.16464036e-03,  3.66676786e-04, -8.45414113e-02,\n",
       "          8.75793621e-02,  4.21414506e-04, -8.26208780e-03,\n",
       "          5.72187485e-03,  9.98653867e-03, -3.21243573e-02,\n",
       "          5.35675121e-02, -1.39669720e-02, -6.19917811e-03,\n",
       "         -1.60275396e-03,  5.01836955e-03, -1.69751325e-02,\n",
       "         -1.23065830e-02, -1.50417159e-03,  9.79252477e-02,\n",
       "         -5.19129087e-02,  5.10030982e-04, -1.18943925e-02,\n",
       "         -2.15745336e-03, -4.52108650e-03,  4.79453412e-02,\n",
       "         -9.56838206e-03,  3.00583426e-02,  3.67640768e-03,\n",
       "         -5.47937510e-02,  4.24556867e-03,  6.04798327e-03,\n",
       "         -2.89932040e-02,  1.30083894e-02, -1.29411869e-02,\n",
       "          3.22549267e-02, -3.07691364e-02, -2.87644153e-03],\n",
       "        [ 1.40106327e-01,  2.13443990e-02,  4.40070865e-02,\n",
       "          5.61425387e-02,  5.05718723e-02,  3.40442345e-03,\n",
       "          1.98566018e-01,  2.12087479e-01,  1.35308181e-02,\n",
       "          4.17357816e-02,  5.74842699e-02,  1.12718081e-02,\n",
       "          2.03088972e-02,  1.28655269e-01,  5.27789798e-01,\n",
       "          5.76393695e-01,  3.38711674e-02,  2.25731977e-02,\n",
       "          4.36013603e-02,  7.85534443e-02,  6.74801090e-03,\n",
       "          7.83785262e-02,  5.93437944e-02,  8.03166732e-02,\n",
       "          1.46170795e-02,  7.92080367e-02,  3.68695158e-02,\n",
       "          5.35962395e-02,  2.03839561e-01,  2.96563038e-01,\n",
       "          8.71807198e-02,  7.71347419e-02,  3.35324093e-03,\n",
       "          5.59511336e-03,  2.23284279e-03,  2.23555833e-03,\n",
       "          4.47665707e-03,  4.58885398e-02,  1.34299118e-02]]), 3)"
      ]
     },
     "execution_count": 47,
     "metadata": {},
     "output_type": "execute_result"
    }
   ],
   "source": [
    "trip_motion_all_user_with_label[2][0]"
   ]
  },
  {
   "cell_type": "code",
   "execution_count": 56,
   "metadata": {
    "scrolled": true
   },
   "outputs": [
    {
     "name": "stdout",
     "output_type": "stream",
     "text": [
      "(1, 2)\n",
      "(7, 39)\n"
     ]
    }
   ],
   "source": [
    "print(np.shape(trip_motion_all_user_with_label[2]))\n",
    "print(np.shape(trip_motion_all_user_with_label[2][0][0]))"
   ]
  },
  {
   "cell_type": "code",
   "execution_count": 42,
   "metadata": {},
   "outputs": [
    {
     "name": "stdout",
     "output_type": "stream",
     "text": [
      "(0,)\n",
      "(0,)\n",
      "//\n",
      "(0,)\n",
      "(0,)\n",
      "//\n",
      "(1, 2)\n",
      "(960, 4)\n",
      "//\n",
      "(0,)\n",
      "(238, 4)\n",
      "//\n",
      "(0,)\n",
      "(0,)\n",
      "//\n",
      "(0,)\n",
      "(0,)\n",
      "//\n",
      "(10, 2)\n",
      "(587, 4)\n",
      "//\n",
      "(3, 2)\n",
      "(188, 4)\n",
      "//\n",
      "(0,)\n",
      "(0,)\n",
      "//\n",
      "(0,)\n",
      "(0,)\n",
      "//\n",
      "(0,)\n",
      "(0,)\n",
      "//\n",
      "(2, 2)\n",
      "(195, 4)\n",
      "//\n",
      "(13, 2)\n",
      "(4356, 4)\n",
      "//\n",
      "(2, 2)\n",
      "(1039, 4)\n",
      "//\n",
      "(5, 2)\n",
      "(556, 4)\n",
      "//\n",
      "(3, 2)\n",
      "(289, 4)\n",
      "//\n",
      "(0,)\n",
      "(0,)\n",
      "//\n",
      "(0,)\n",
      "(0,)\n",
      "//\n",
      "(0,)\n",
      "(0,)\n",
      "//\n",
      "(36, 2)\n",
      "(22189, 4)\n",
      "//\n",
      "(0,)\n",
      "(0,)\n",
      "//\n",
      "(0,)\n",
      "(0,)\n",
      "//\n",
      "(0,)\n",
      "(0,)\n",
      "//\n",
      "(4, 2)\n",
      "(74, 4)\n",
      "//\n",
      "(1, 2)\n",
      "(519, 4)\n",
      "//\n",
      "(1, 2)\n",
      "(711, 4)\n",
      "//\n",
      "(1, 2)\n",
      "(15, 4)\n",
      "//\n",
      "(0,)\n",
      "(0,)\n",
      "//\n",
      "(0,)\n",
      "(0,)\n",
      "//\n",
      "(6, 2)\n",
      "(2181, 4)\n",
      "//\n",
      "(2, 2)\n",
      "(322, 4)\n",
      "//\n",
      "(0,)\n",
      "(0,)\n",
      "//\n",
      "(0,)\n",
      "(0,)\n",
      "//\n",
      "(0,)\n",
      "(0,)\n",
      "//\n",
      "(0,)\n",
      "(0,)\n",
      "//\n",
      "(0,)\n",
      "(0,)\n",
      "//\n",
      "(4, 2)\n",
      "(113, 4)\n",
      "//\n",
      "(0,)\n",
      "(0,)\n",
      "//\n",
      "(1, 2)\n",
      "(2955, 4)\n",
      "//\n",
      "(12, 2)\n",
      "(7044, 4)\n",
      "//\n",
      "(1, 2)\n",
      "(399, 4)\n",
      "//\n",
      "(0,)\n",
      "(0,)\n",
      "//\n",
      "(2, 2)\n",
      "(1942, 4)\n",
      "//\n",
      "(0,)\n",
      "(0,)\n",
      "//\n",
      "(0,)\n",
      "(0,)\n",
      "//\n",
      "(0,)\n",
      "(0,)\n",
      "//\n",
      "(0,)\n",
      "(0,)\n",
      "//\n",
      "(0,)\n",
      "(0,)\n",
      "//\n",
      "(5, 2)\n",
      "(1573, 4)\n",
      "//\n",
      "(0,)\n",
      "(0,)\n",
      "//\n",
      "(31, 2)\n",
      "(105912, 4)\n",
      "//\n",
      "(0,)\n",
      "(0,)\n",
      "//\n",
      "(0,)\n",
      "(0,)\n",
      "//\n",
      "(0,)\n",
      "(0,)\n",
      "//\n",
      "(0,)\n",
      "(0,)\n",
      "//\n",
      "(0,)\n",
      "(0,)\n",
      "//\n",
      "(0,)\n",
      "(0,)\n",
      "//\n",
      "(0,)\n",
      "(0,)\n",
      "//\n",
      "(0,)\n",
      "(0,)\n",
      "//\n",
      "(1, 2)\n",
      "(420, 4)\n",
      "//\n",
      "(0,)\n",
      "(0,)\n",
      "//\n",
      "(0,)\n",
      "(0,)\n",
      "//\n",
      "(7, 2)\n",
      "(6605, 4)\n",
      "//\n",
      "(0,)\n",
      "(0,)\n",
      "//\n",
      "(0,)\n",
      "(0,)\n",
      "//\n",
      "(0,)\n",
      "(193, 4)\n",
      "//\n",
      "(5, 2)\n",
      "(298, 4)\n",
      "//\n",
      "(0,)\n",
      "(0,)\n",
      "//\n",
      "(0,)\n",
      "(0,)\n",
      "//\n"
     ]
    }
   ],
   "source": [
    "for i in range(69):    \n",
    "    print(np.shape(trip_motion_all_user_with_label[i]))\n",
    "    print(np.shape(a[i]))\n",
    "    print(\"//\")\n",
    "#     7×39 ->960×4"
   ]
  },
  {
   "cell_type": "code",
   "execution_count": null,
   "metadata": {},
   "outputs": [],
   "source": []
  },
  {
   "cell_type": "code",
   "execution_count": null,
   "metadata": {},
   "outputs": [],
   "source": []
  }
 ],
 "metadata": {
  "kernelspec": {
   "display_name": "Python 3",
   "language": "python",
   "name": "python3"
  },
  "language_info": {
   "codemirror_mode": {
    "name": "ipython",
    "version": 3
   },
   "file_extension": ".py",
   "mimetype": "text/x-python",
   "name": "python",
   "nbconvert_exporter": "python",
   "pygments_lexer": "ipython3",
   "version": "3.7.3"
  }
 },
 "nbformat": 4,
 "nbformat_minor": 4
}
