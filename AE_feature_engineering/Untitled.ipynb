{
 "cells": [
  {
   "cell_type": "code",
   "execution_count": 18,
   "metadata": {},
   "outputs": [],
   "source": [
    "import os\n",
    "os.environ[\"CUDA_VISIBLE_DEVICES\"] = \"0,1\"\n",
    "os.environ[\"TF_CPP_MIN_LOG_LEVEL\"] = \"2\"\n",
    "import warnings\n",
    "warnings.filterwarnings(\"ignore\")\n",
    "import numpy as np\n",
    "from sklearn.metrics import classification_report, confusion_matrix, accuracy_score\n",
    "import random\n",
    "import pickle\n",
    "import tensorflow as tf\n",
    "from sklearn.ensemble import RandomForestClassifier\n",
    "from sklearn.svm import SVC\n",
    "from sklearn.model_selection import GridSearchCV\n",
    "import pandas as pd\n",
    "import os\n",
    "from sklearn.decomposition import PCA\n",
    "from sklearn.metrics import precision_score\n",
    "from sklearn.metrics import recall_score\n",
    "from sklearn.metrics import f1_score\n",
    "from sklearn.metrics import roc_auc_score\n",
    "from sklearn.cluster import KMeans\n",
    "import matplotlib.pyplot as plt\n",
    "import keras\n",
    "import sys"
   ]
  },
  {
   "cell_type": "code",
   "execution_count": 67,
   "metadata": {},
   "outputs": [],
   "source": [
    "filename = '/home/sxz/data/geolife_Data/Encoded_data.pickle'\n",
    "with open(filename, 'rb') as f:\n",
    "    a1,b1 = pickle.load(f)"
   ]
  },
  {
   "cell_type": "code",
   "execution_count": 68,
   "metadata": {},
   "outputs": [],
   "source": [
    "Train_X = a1[:int(0.8*len(a1))]"
   ]
  },
  {
   "cell_type": "code",
   "execution_count": 69,
   "metadata": {},
   "outputs": [],
   "source": [
    "Train_Y_ori = b1[:int(0.8*len(b1))]"
   ]
  },
  {
   "cell_type": "code",
   "execution_count": 70,
   "metadata": {},
   "outputs": [],
   "source": [
    "Test_X = a1[int(0.8*len(a1)):]"
   ]
  },
  {
   "cell_type": "code",
   "execution_count": 71,
   "metadata": {},
   "outputs": [],
   "source": [
    "Test_Y_ori = b1[int(0.8*len(b1)):]"
   ]
  },
  {
   "cell_type": "code",
   "execution_count": 72,
   "metadata": {},
   "outputs": [
    {
     "data": {
      "text/plain": [
       "0"
      ]
     },
     "execution_count": 72,
     "metadata": {},
     "output_type": "execute_result"
    }
   ],
   "source": [
    "len(Test_X) - len(Test_Y)"
   ]
  },
  {
   "cell_type": "code",
   "execution_count": 73,
   "metadata": {},
   "outputs": [],
   "source": [
    "Test_Y = np.zeros((len(Test_Y_ori),5))"
   ]
  },
  {
   "cell_type": "code",
   "execution_count": 74,
   "metadata": {},
   "outputs": [
    {
     "name": "stdout",
     "output_type": "stream",
     "text": [
      "[4 0 0 0 0 0 0 0 0 0 0 0 0 0 0 0 0 0 0 0 0 0 0 0 0 0 0 0 0 0 0 0 0 0 0 0 0\n",
      " 0 0 0 0 0 0 0 0 0 0 0 0 0 0 0 0 0 0 0 0 0 0 0 0 0 0 0 0 0 0 0 0 0 0 0 0 0\n",
      " 0 0 0 0 0 0 0 0 0 0 0 0 0 0 0 0 0 0 0 0 0 0 0 0 0 0 0 0 0 0 0 0 0 0 0 0 0\n",
      " 0 0 0 0 0 0 0 0 0 0 0 0 0 0 0 0 0 0 0 0 0 0 0 0 0 0 0 0 0 0 0 0 0 0 0 0 0\n",
      " 0 0 0 1 1 1 1 1 1 1 1 1 1 1 1 1 1 1 1 1 1 1 1 1 1 1 1 1 1 2 2 2 2 2 2 2 2\n",
      " 2 2 2 2 2 2 2 2 2 2 2 2 2 2 2 2 2 2 2 2 2 2 2 2 2 2 2 2 2 2 2 2 2 2 2 2 2\n",
      " 3 3 3 3 3 3 3 3 3 3 3 4 4 4 4 4 4 4 4 4 4 4 4 4 4 4 4 4 4 4 4 4 4 4 4 4 4\n",
      " 4 4 4 4 4 4 4 4 4 4 4 4 4 4 4 4 4 4 4 4 4 4 4 4 4 4 4 4 4 4 4 4 4 4 4 4 4\n",
      " 4 4 4 4 4 4 4 4 4 4 4 4 4 4 4 4 4 4 4 4 4 4 4 4 4 4 4 4 4 4 4 4 4 4 4 4 4\n",
      " 4 4 4 4 4 4 4 4 4 4 4 4 4 4 4 4 4 4 4 4 4 4 4 4 4 4 4 4 4 4 4 4 4 4 4 4 4\n",
      " 4 4 4 4 4 4 4 4 4 4 4 4 4 4 4 4 4 4 4 4 4 4 4 4 4 4 4 4 4 4 4 4 4 4 4 4 4\n",
      " 4 4 4 4 4 4 4 4 4 4 4 4 4 4 4 4 4 4 4 4 4 4 4 4 4 4 4 4 4 4 4 4 4 4 4 4 4\n",
      " 4 4 4 4 4 4 4 4 4 4 4 4 4 4 4 4 4 4 4 4 4 4 4 4 4 4 4 4 4 4 4 4 4 4 4 4 4\n",
      " 4 4 4 4 4 4 4 4 4 4 4 4 4 4 4 4 4 4 4 4 4 4 4 4 4 4 4 4 4 4 4 4 4 4 4 4 4\n",
      " 4 4 4 4 4 4 4 4 4 4 4 4 4 4 4 4 4 4 4 4 4 4 4 4 4 4 4 4 4 4 4 4 4 4 4 4 4\n",
      " 4 4 4 4 4 4 4 4 4 4 4 4 4 4 4 4 4 4 4 4 4 4 4 4 4 4 4 4 4 4 4 4 4 4 4 4 4\n",
      " 4 4 4 4 4 4 4 4 4 4 4 4 4 4 4 4 4 4 4 4 4 4 4 4 4 4 4 4 4 4 4 4 4 4 4 4 4\n",
      " 4 4 4 4 4 4 4 4 4 4 4 4 4 4 4 4 4 4 4 4 4 4 4 4 4 4 4 4 4 4 4 4 4 4 4 4 4\n",
      " 4 4 4 4 4 4 4 4 4 4 4 4 4 4 4 4 4 4 4 4 4 4 4 4 4 4 4 4 4 4 4 4 4 4 4 4 4\n",
      " 4 4 4 4 4 4 4 4 4 4 4 4 4 4 4 4 4 4 4 4 4 4 4 4 4 4 4 4 4 4 4 4 4 4 4 4 4\n",
      " 4 4 4 4 4 4 4 4 4 4 4 4 4 4 4 4 4 4 4 4 4 4 4 4 4 4 4 4 4 4 4 4 4 4 4 4 4\n",
      " 4 4 4 4 4 4 4 4 4 4 4 4 4 4 4 4 4 4 4 4 4 4 4 4 4 4 4 4 4 4 4 4 4 4 4 4 4\n",
      " 4 4 4 4 4 4 4 4 4 4 4 4 4 4 4 4 4 4 4 4 4 4 4 4 4 4 4 4 4 4 4 4 4 4 4 4 4\n",
      " 4 4 4 4 4 4]\n",
      "857\n",
      "[0 0 0 ... 4 4 4]\n",
      "3428\n"
     ]
    }
   ],
   "source": [
    "for i in range(len(Test_Y_ori)):\n",
    "    Test_Y[i][Test_Y_ori[i]] = 1\n",
    "print(Test_Y_ori)\n",
    "print(len(Test_Y_ori))\n",
    "print(Train_Y_ori)\n",
    "print(len(Train_Y_ori))"
   ]
  },
  {
   "cell_type": "code",
   "execution_count": 75,
   "metadata": {},
   "outputs": [],
   "source": [
    "Train_Y = np.zeros((len(Train_Y_ori),5))"
   ]
  },
  {
   "cell_type": "code",
   "execution_count": 76,
   "metadata": {},
   "outputs": [
    {
     "name": "stdout",
     "output_type": "stream",
     "text": [
      "[[1. 0. 0. 0. 0.]\n",
      " [1. 0. 0. 0. 0.]\n",
      " [1. 0. 0. 0. 0.]\n",
      " ...\n",
      " [0. 0. 0. 0. 1.]\n",
      " [0. 0. 0. 0. 1.]\n",
      " [0. 0. 0. 0. 1.]]\n"
     ]
    }
   ],
   "source": [
    "for i in range(len(Train_Y_ori)):\n",
    "    Train_Y[i][Train_Y_ori[i]] = 1\n",
    "print(Train_Y)"
   ]
  },
  {
   "cell_type": "code",
   "execution_count": 77,
   "metadata": {},
   "outputs": [],
   "source": [
    "with open('/home/sxz/data/geolife_Data/e_Cross1.pickle', 'wb') as f:\n",
    "    pickle.dump([Train_X, Train_Y, Test_X, Test_Y, Test_Y_ori], f)"
   ]
  },
  {
   "cell_type": "code",
   "execution_count": 164,
   "metadata": {},
   "outputs": [],
   "source": [
    "filename = '/home/sxz/data/geolife_Data/pseudo_data1.pickle'\n",
    "with open(filename, 'rb') as f:\n",
    "    Train_X, label_ ,encode = pickle.load(f)"
   ]
  },
  {
   "cell_type": "code",
   "execution_count": 165,
   "metadata": {},
   "outputs": [
    {
     "data": {
      "text/plain": [
       "array([-0.00169511, -0.00120653, -0.00117257, -0.00134917, -0.0014697 ,\n",
       "       -0.00137619, -0.00120322, -0.00110016, -0.00129467, -0.00151485,\n",
       "       -0.00113319, -0.00132114, -0.00130715, -0.00104906, -0.00102654,\n",
       "       -0.00138429, -0.0010833 , -0.00113092, -0.00104417, -0.00130347,\n",
       "       -0.00142991, -0.000973  , -0.00121432, -0.0010196 , -0.00128101,\n",
       "       -0.00149498, -0.00130898, -0.00100506, -0.00114816, -0.00088383,\n",
       "       -0.00135537, -0.00127693, -0.00149354, -0.00092324, -0.00140403,\n",
       "       -0.00120922, -0.00094373, -0.00151534, -0.00099113], dtype=float32)"
      ]
     },
     "execution_count": 165,
     "metadata": {},
     "output_type": "execute_result"
    }
   ],
   "source": [
    "encode[label_==0,0]"
   ]
  },
  {
   "cell_type": "code",
   "execution_count": 166,
   "metadata": {},
   "outputs": [],
   "source": [
    "encode = np.array(encode)"
   ]
  },
  {
   "cell_type": "code",
   "execution_count": 167,
   "metadata": {},
   "outputs": [
    {
     "data": {
      "text/plain": [
       "[<matplotlib.lines.Line2D at 0x7f26cda05710>]"
      ]
     },
     "execution_count": 167,
     "metadata": {},
     "output_type": "execute_result"
    },
    {
     "data": {
      "image/png": "[encoded data removed]",
      "text/plain": [
       "<Figure size 864x864 with 1 Axes>"
      ]
     },
     "metadata": {
      "needs_background": "light"
     },
     "output_type": "display_data"
    }
   ],
   "source": [
    "plt.figure(figsize=(12,12))\n",
    "# print(unlabel_pca[label_==0,0])\n",
    "plt.plot(encode[label_==0,0],encode[label_==0,1],'o',color='black')\n",
    "plt.plot(encode[label_==1,0],encode[label_==1,1],'o',color='red')\n",
    "plt.plot(encode[label_==2,0],encode[label_==2,1],'o',color='blue')\n",
    "plt.plot(encode[label_==3,0],encode[label_==3,1],'o',color='purple')\n",
    "plt.plot(encode[label_==4,0],encode[label_==4,1],'o',color='green')"
   ]
  },
  {
   "cell_type": "code",
   "execution_count": 163,
   "metadata": {
    "scrolled": true
   },
   "outputs": [
    {
     "data": {
      "text/plain": [
       "array([], shape=(0, 110, 2), dtype=float32)"
      ]
     },
     "execution_count": 163,
     "metadata": {},
     "output_type": "execute_result"
    }
   ],
   "source": [
    "encode[label==0]"
   ]
  },
  {
   "cell_type": "code",
   "execution_count": null,
   "metadata": {},
   "outputs": [],
   "source": []
  },
  {
   "cell_type": "code",
   "execution_count": 99,
   "metadata": {},
   "outputs": [
    {
     "name": "stdout",
     "output_type": "stream",
     "text": [
      "[0 1 2 3 4 4 2 0 3 1 1 3 4 3 0 0 2 1 2 4 1 0 1 1 0 0 0 4 4 2 3 2 1 4 0 1 4\n",
      " 0 4 3 1 4 1 2 2 4 4 1 1 3 2 4 2 4 1 1 1 0 1 4 1 1 4 4 4 3 1 1 4 2 4 4 0 0\n",
      " 1 1 1 1 4 3 4 2 1 0 1 4 3 1 0 4 4 4 4 4 4 0 1 1 4 0 1 2 4 3 4 4 0 4 0 3 4\n",
      " 2 0 0 2 4 1 3 1 1 1 0 0 0 0 1 4 2 1 0 4 1 4 1 4 0 1 3 4 4 4 4 1 4 4 1 2 4\n",
      " 3 2 2 4 1 1 3 3 4 4 4 4 1 1 4 3 1 1 1 4 1 1 4 4 3 0 0 1 1 0 0 4 4 4 3 1 1\n",
      " 3 1 1 1 4 4 0 4 2 1 1 4 3 1 1 1 1 1 3 1 0 1 4 1 4 1 1 1 4 1 4 4 4 4 3 1 0\n",
      " 1 4 4 4 4 0 3 1 0 1 0 1 0 1 4 1 4 4 1 1 4 4 4 3 4 3 4 1 4 1 1 1 0 1 0 1 1\n",
      " 4 3 0 3 1 4 1 4 3 1 1 1 1 3 4 1 1 4 1 0 0 4 3 4 4 4 4 4 3 4 3 1 4 1 4 0 4\n",
      " 2 2 3 4 4 2 4 3 4 3 1 4 0 2 0 4 3 4 2 3 0 4 1 4 3 2 1 4 2 1 4 1 4 4 4 1 4\n",
      " 4 2 1 2 1 3 1 4 2 4 1 3 1 0 3 4 1 1 2 1 4 0 0 0 4 3 4 1 0 4 1 2 0 4 2 4 4\n",
      " 2 1 0 4 1 1 3 1 4 2 1 0 2 4 1 3 1 0 1 4 1 2 1 0 4 2 4 1 4 4]\n"
     ]
    }
   ],
   "source": [
    "print(label_)"
   ]
  },
  {
   "cell_type": "code",
   "execution_count": 94,
   "metadata": {},
   "outputs": [
    {
     "data": {
      "text/plain": [
       "(400,)"
      ]
     },
     "execution_count": 94,
     "metadata": {},
     "output_type": "execute_result"
    }
   ],
   "source": [
    "np.shape(label_)"
   ]
  },
  {
   "cell_type": "code",
   "execution_count": 77,
   "metadata": {},
   "outputs": [
    {
     "data": {
      "text/plain": [
       "[<matplotlib.lines.Line2D at 0x7f27257cff98>]"
      ]
     },
     "execution_count": 77,
     "metadata": {},
     "output_type": "execute_result"
    },
    {
     "data": {
      "image/png": "[encoded data removed]",
      "text/plain": [
       "<Figure size 432x288 with 1 Axes>"
      ]
     },
     "metadata": {
      "needs_background": "light"
     },
     "output_type": "display_data"
    }
   ],
   "source": [
    "plt.plot(unlabel_pca[:,0],unlabel_pca[:,1],'o',color='blue')"
   ]
  },
  {
   "cell_type": "code",
   "execution_count": 78,
   "metadata": {},
   "outputs": [],
   "source": [
    "label_ = label_[0]"
   ]
  },
  {
   "cell_type": "code",
   "execution_count": 79,
   "metadata": {},
   "outputs": [],
   "source": [
    "pca = PCA(n_components = 2)\n",
    "Train_X = Train_X.reshape(400,992)"
   ]
  },
  {
   "cell_type": "code",
   "execution_count": 80,
   "metadata": {
    "scrolled": true
   },
   "outputs": [
    {
     "name": "stdout",
     "output_type": "stream",
     "text": [
      "[[11.37021995  0.61509987]\n",
      " [13.91841553  0.71494593]\n",
      " [12.62859954  0.31561091]\n",
      " [ 7.83568824  0.67945245]\n",
      " [13.92457328  0.57065851]\n",
      " [-0.14360963 -0.9076196 ]\n",
      " [-0.3285408   1.0636914 ]\n",
      " [-0.14360963 -0.9076196 ]\n",
      " [ 0.45654943 -0.10180646]\n",
      " [-0.3285408   1.0636914 ]\n",
      " [-0.3285408   1.0636914 ]\n",
      " [ 0.45654943 -0.10180646]\n",
      " [-0.14360963 -0.9076196 ]\n",
      " [ 0.45654943 -0.10180646]\n",
      " [-0.14360963 -0.9076196 ]\n",
      " [-0.14360963 -0.9076196 ]\n",
      " [-0.3285408   1.0636914 ]\n",
      " [-0.3285408   1.0636914 ]\n",
      " [-0.3285408   1.0636914 ]\n",
      " [-0.14360963 -0.9076196 ]\n",
      " [-0.3285408   1.0636914 ]\n",
      " [-0.14360963 -0.9076196 ]\n",
      " [-0.3285408   1.0636914 ]\n",
      " [-0.3285408   1.0636914 ]\n",
      " [-0.14360963 -0.9076196 ]\n",
      " [-0.14360963 -0.9076196 ]\n",
      " [-0.14360963 -0.9076196 ]\n",
      " [-0.14360963 -0.9076196 ]\n",
      " [-0.14360963 -0.9076196 ]\n",
      " [-0.3285408   1.0636914 ]\n",
      " [ 0.45654943 -0.10180646]\n",
      " [-0.3285408   1.0636914 ]\n",
      " [-0.3285408   1.0636914 ]\n",
      " [-0.14360963 -0.9076196 ]\n",
      " [-0.14360963 -0.9076196 ]\n",
      " [-0.3285408   1.0636914 ]\n",
      " [-0.14360963 -0.9076196 ]\n",
      " [-0.14360963 -0.9076196 ]\n",
      " [-0.14360963 -0.9076196 ]\n",
      " [ 0.45654943 -0.10180646]\n",
      " [-0.3285408   1.0636914 ]\n",
      " [-0.14360963 -0.9076196 ]\n",
      " [-0.3285408   1.0636914 ]\n",
      " [-0.3285408   1.0636914 ]\n",
      " [-0.3285408   1.0636914 ]\n",
      " [-0.14360963 -0.9076196 ]\n",
      " [-0.14360963 -0.9076196 ]\n",
      " [-0.3285408   1.0636914 ]\n",
      " [-0.3285408   1.0636914 ]\n",
      " [ 0.45654943 -0.10180646]\n",
      " [-0.3285408   1.0636914 ]\n",
      " [-0.14360963 -0.9076196 ]\n",
      " [-0.3285408   1.0636914 ]\n",
      " [-0.14360963 -0.9076196 ]\n",
      " [-0.3285408   1.0636914 ]\n",
      " [-0.3285408   1.0636914 ]\n",
      " [-0.3285408   1.0636914 ]\n",
      " [-0.14360963 -0.9076196 ]\n",
      " [-0.3285408   1.0636914 ]\n",
      " [-0.14360963 -0.9076196 ]\n",
      " [-0.3285408   1.0636914 ]\n",
      " [-0.3285408   1.0636914 ]\n",
      " [-0.14360963 -0.9076196 ]\n",
      " [-0.14360963 -0.9076196 ]\n",
      " [-0.14360963 -0.9076196 ]\n",
      " [ 0.45654943 -0.10180646]\n",
      " [-0.3285408   1.0636914 ]\n",
      " [-0.3285408   1.0636914 ]\n",
      " [-0.14360963 -0.9076196 ]\n",
      " [-0.3285408   1.0636914 ]\n",
      " [-0.14360963 -0.9076196 ]\n",
      " [-0.14360963 -0.9076196 ]\n",
      " [-0.14360963 -0.9076196 ]\n",
      " [-0.14360963 -0.9076196 ]\n",
      " [-0.3285408   1.0636914 ]\n",
      " [-0.3285408   1.0636914 ]\n",
      " [-0.3285408   1.0636914 ]\n",
      " [-0.3285408   1.0636914 ]\n",
      " [-0.14360963 -0.9076196 ]\n",
      " [ 0.45654943 -0.10180646]\n",
      " [-0.14360963 -0.9076196 ]\n",
      " [-0.3285408   1.0636914 ]\n",
      " [-0.3285408   1.0636914 ]\n",
      " [-0.14360963 -0.9076196 ]\n",
      " [-0.3285408   1.0636914 ]\n",
      " [-0.14360963 -0.9076196 ]\n",
      " [ 0.45654943 -0.10180646]\n",
      " [-0.3285408   1.0636914 ]\n",
      " [-0.14360963 -0.9076196 ]\n",
      " [-0.14360963 -0.9076196 ]\n",
      " [-0.14360963 -0.9076196 ]\n",
      " [-0.14360963 -0.9076196 ]\n",
      " [-0.14360963 -0.9076196 ]\n",
      " [-0.14360963 -0.9076196 ]\n",
      " [-0.14360963 -0.9076196 ]\n",
      " [-0.14360963 -0.9076196 ]\n",
      " [-0.3285408   1.0636914 ]\n",
      " [-0.3285408   1.0636914 ]\n",
      " [-0.14360963 -0.9076196 ]\n",
      " [-0.14360963 -0.9076196 ]\n",
      " [-0.3285408   1.0636914 ]\n",
      " [-0.3285408   1.0636914 ]\n",
      " [-0.14360963 -0.9076196 ]\n",
      " [ 0.45654943 -0.10180646]\n",
      " [-0.14360963 -0.9076196 ]\n",
      " [-0.14360963 -0.9076196 ]\n",
      " [-0.14360963 -0.9076196 ]\n",
      " [-0.14360963 -0.9076196 ]\n",
      " [-0.14360963 -0.9076196 ]\n",
      " [ 0.45654943 -0.10180646]\n",
      " [-0.14360963 -0.9076196 ]\n",
      " [-0.3285408   1.0636914 ]\n",
      " [-0.14360963 -0.9076196 ]\n",
      " [-0.14360963 -0.9076196 ]\n",
      " [-0.3285408   1.0636914 ]\n",
      " [-0.14360963 -0.9076196 ]\n",
      " [-0.3285408   1.0636914 ]\n",
      " [ 0.45654943 -0.10180646]\n",
      " [-0.3285408   1.0636914 ]\n",
      " [-0.3285408   1.0636914 ]\n",
      " [-0.3285408   1.0636914 ]\n",
      " [-0.14360963 -0.9076196 ]\n",
      " [-0.14360963 -0.9076196 ]\n",
      " [-0.14360963 -0.9076196 ]\n",
      " [-0.14360963 -0.9076196 ]\n",
      " [-0.3285408   1.0636914 ]\n",
      " [-0.14360963 -0.9076196 ]\n",
      " [-0.3285408   1.0636914 ]\n",
      " [-0.3285408   1.0636914 ]\n",
      " [-0.14360963 -0.9076196 ]\n",
      " [-0.14360963 -0.9076196 ]\n",
      " [-0.3285408   1.0636914 ]\n",
      " [-0.14360963 -0.9076196 ]\n",
      " [-0.3285408   1.0636914 ]\n",
      " [-0.14360963 -0.9076196 ]\n",
      " [-0.14360963 -0.9076196 ]\n",
      " [-0.3285408   1.0636914 ]\n",
      " [ 0.45654943 -0.10180646]\n",
      " [-0.14360963 -0.9076196 ]\n",
      " [-0.14360963 -0.9076196 ]\n",
      " [-0.14360963 -0.9076196 ]\n",
      " [-0.14360963 -0.9076196 ]\n",
      " [-0.3285408   1.0636914 ]\n",
      " [-0.14360963 -0.9076196 ]\n",
      " [-0.14360963 -0.9076196 ]\n",
      " [-0.3285408   1.0636914 ]\n",
      " [-0.3285408   1.0636914 ]\n",
      " [-0.14360963 -0.9076196 ]\n",
      " [ 0.45654943 -0.10180646]\n",
      " [-0.3285408   1.0636914 ]\n",
      " [-0.3285408   1.0636914 ]\n",
      " [-0.14360963 -0.9076196 ]\n",
      " [-0.3285408   1.0636914 ]\n",
      " [-0.3285408   1.0636914 ]\n",
      " [ 0.45654943 -0.10180646]\n",
      " [ 0.45654943 -0.10180646]\n",
      " [-0.14360963 -0.9076196 ]\n",
      " [-0.14360963 -0.9076196 ]\n",
      " [-0.14360963 -0.9076196 ]\n",
      " [-0.14360963 -0.9076196 ]\n",
      " [-0.3285408   1.0636914 ]\n",
      " [-0.3285408   1.0636914 ]\n",
      " [-0.14360963 -0.9076196 ]\n",
      " [ 0.45654943 -0.10180646]\n",
      " [-0.3285408   1.0636914 ]\n",
      " [-0.3285408   1.0636914 ]\n",
      " [-0.3285408   1.0636914 ]\n",
      " [-0.14360963 -0.9076196 ]\n",
      " [-0.3285408   1.0636914 ]\n",
      " [-0.3285408   1.0636914 ]\n",
      " [-0.14360963 -0.9076196 ]\n",
      " [-0.14360963 -0.9076196 ]\n",
      " [ 0.45654943 -0.10180646]\n",
      " [-0.14360963 -0.9076196 ]\n",
      " [-0.14360963 -0.9076196 ]\n",
      " [-0.3285408   1.0636914 ]\n",
      " [-0.3285408   1.0636914 ]\n",
      " [-0.14360963 -0.9076196 ]\n",
      " [-0.14360963 -0.9076196 ]\n",
      " [-0.14360963 -0.9076196 ]\n",
      " [-0.14360963 -0.9076196 ]\n",
      " [-0.14360963 -0.9076196 ]\n",
      " [ 0.45654943 -0.10180646]\n",
      " [-0.3285408   1.0636914 ]\n",
      " [-0.3285408   1.0636914 ]\n",
      " [ 0.45654943 -0.10180646]\n",
      " [-0.3285408   1.0636914 ]\n",
      " [-0.3285408   1.0636914 ]\n",
      " [-0.3285408   1.0636914 ]\n",
      " [-0.14360963 -0.9076196 ]\n",
      " [-0.14360963 -0.9076196 ]\n",
      " [-0.14360963 -0.9076196 ]\n",
      " [-0.14360963 -0.9076196 ]\n",
      " [-0.3285408   1.0636914 ]\n",
      " [-0.3285408   1.0636914 ]\n",
      " [-0.3285408   1.0636914 ]\n",
      " [-0.14360963 -0.9076196 ]\n",
      " [ 0.45654943 -0.10180646]\n",
      " [-0.3285408   1.0636914 ]\n",
      " [-0.3285408   1.0636914 ]\n",
      " [-0.3285408   1.0636914 ]\n",
      " [-0.3285408   1.0636914 ]\n",
      " [-0.3285408   1.0636914 ]\n",
      " [ 0.45654943 -0.10180646]\n",
      " [-0.3285408   1.0636914 ]\n",
      " [-0.14360963 -0.9076196 ]\n",
      " [-0.3285408   1.0636914 ]\n",
      " [-0.14360963 -0.9076196 ]\n",
      " [-0.3285408   1.0636914 ]\n",
      " [-0.14360963 -0.9076196 ]\n",
      " [-0.3285408   1.0636914 ]\n",
      " [-0.3285408   1.0636914 ]\n",
      " [-0.3285408   1.0636914 ]\n",
      " [-0.14360963 -0.9076196 ]\n",
      " [-0.3285408   1.0636914 ]\n",
      " [-0.14360963 -0.9076196 ]\n",
      " [-0.14360963 -0.9076196 ]\n",
      " [-0.14360963 -0.9076196 ]\n",
      " [-0.14360963 -0.9076196 ]\n",
      " [ 0.45654943 -0.10180646]\n",
      " [-0.3285408   1.0636914 ]\n",
      " [-0.14360963 -0.9076196 ]\n",
      " [-0.3285408   1.0636914 ]\n",
      " [-0.14360963 -0.9076196 ]\n",
      " [-0.14360963 -0.9076196 ]\n",
      " [-0.14360963 -0.9076196 ]\n",
      " [-0.14360963 -0.9076196 ]\n",
      " [-0.14360963 -0.9076196 ]\n",
      " [ 0.45654943 -0.10180646]\n",
      " [-0.3285408   1.0636914 ]\n",
      " [-0.14360963 -0.9076196 ]\n",
      " [-0.3285408   1.0636914 ]\n",
      " [-0.14360963 -0.9076196 ]\n",
      " [-0.3285408   1.0636914 ]\n",
      " [-0.14360963 -0.9076196 ]\n",
      " [-0.3285408   1.0636914 ]\n",
      " [-0.14360963 -0.9076196 ]\n",
      " [-0.3285408   1.0636914 ]\n",
      " [-0.14360963 -0.9076196 ]\n",
      " [-0.14360963 -0.9076196 ]\n",
      " [-0.3285408   1.0636914 ]\n",
      " [-0.3285408   1.0636914 ]\n",
      " [-0.14360963 -0.9076196 ]\n",
      " [-0.14360963 -0.9076196 ]\n",
      " [-0.14360963 -0.9076196 ]\n",
      " [ 0.45654943 -0.10180646]\n",
      " [-0.14360963 -0.9076196 ]\n",
      " [ 0.45654943 -0.10180646]\n",
      " [-0.14360963 -0.9076196 ]\n",
      " [-0.3285408   1.0636914 ]\n",
      " [-0.14360963 -0.9076196 ]\n",
      " [-0.3285408   1.0636914 ]\n",
      " [-0.3285408   1.0636914 ]\n",
      " [-0.3285408   1.0636914 ]\n",
      " [-0.14360963 -0.9076196 ]\n",
      " [-0.3285408   1.0636914 ]\n",
      " [-0.14360963 -0.9076196 ]\n",
      " [-0.3285408   1.0636914 ]\n",
      " [-0.3285408   1.0636914 ]\n",
      " [-0.14360963 -0.9076196 ]\n",
      " [ 0.45654943 -0.10180646]\n",
      " [-0.14360963 -0.9076196 ]\n",
      " [ 0.45654943 -0.10180646]\n",
      " [-0.3285408   1.0636914 ]\n",
      " [-0.14360963 -0.9076196 ]\n",
      " [-0.3285408   1.0636914 ]\n",
      " [-0.14360963 -0.9076196 ]\n",
      " [ 0.45654943 -0.10180646]\n",
      " [-0.3285408   1.0636914 ]\n",
      " [-0.3285408   1.0636914 ]\n",
      " [-0.3285408   1.0636914 ]\n",
      " [-0.3285408   1.0636914 ]\n",
      " [ 0.45654943 -0.10180646]\n",
      " [-0.14360963 -0.9076196 ]\n",
      " [-0.3285408   1.0636914 ]\n",
      " [-0.3285408   1.0636914 ]\n",
      " [-0.14360963 -0.9076196 ]\n",
      " [-0.3285408   1.0636914 ]\n",
      " [-0.14360963 -0.9076196 ]\n",
      " [-0.14360963 -0.9076196 ]\n",
      " [-0.14360963 -0.9076196 ]\n",
      " [ 0.45654943 -0.10180646]\n",
      " [-0.14360963 -0.9076196 ]\n",
      " [-0.14360963 -0.9076196 ]\n",
      " [-0.14360963 -0.9076196 ]\n",
      " [-0.14360963 -0.9076196 ]\n",
      " [-0.14360963 -0.9076196 ]\n",
      " [ 0.45654943 -0.10180646]\n",
      " [-0.14360963 -0.9076196 ]\n",
      " [ 0.45654943 -0.10180646]\n",
      " [-0.3285408   1.0636914 ]\n",
      " [-0.14360963 -0.9076196 ]\n",
      " [-0.3285408   1.0636914 ]\n",
      " [-0.14360963 -0.9076196 ]\n",
      " [-0.14360963 -0.9076196 ]\n",
      " [-0.14360963 -0.9076196 ]\n",
      " [-0.3285408   1.0636914 ]\n",
      " [-0.3285408   1.0636914 ]\n",
      " [ 0.45654943 -0.10180646]\n",
      " [-0.14360963 -0.9076196 ]\n",
      " [-0.14360963 -0.9076196 ]\n",
      " [-0.3285408   1.0636914 ]\n",
      " [-0.14360963 -0.9076196 ]\n",
      " [ 0.45654943 -0.10180646]\n",
      " [-0.14360963 -0.9076196 ]\n",
      " [ 0.45654943 -0.10180646]\n",
      " [-0.3285408   1.0636914 ]\n",
      " [-0.14360963 -0.9076196 ]\n",
      " [-0.14360963 -0.9076196 ]\n",
      " [-0.3285408   1.0636914 ]\n",
      " [-0.14360963 -0.9076196 ]\n",
      " [-0.14360963 -0.9076196 ]\n",
      " [ 0.45654943 -0.10180646]\n",
      " [-0.14360963 -0.9076196 ]\n",
      " [-0.3285408   1.0636914 ]\n",
      " [ 0.45654943 -0.10180646]\n",
      " [-0.14360963 -0.9076196 ]\n",
      " [-0.14360963 -0.9076196 ]\n",
      " [-0.3285408   1.0636914 ]\n",
      " [-0.14360963 -0.9076196 ]\n",
      " [ 0.45654943 -0.10180646]\n",
      " [-0.3285408   1.0636914 ]\n",
      " [-0.3285408   1.0636914 ]\n",
      " [-0.14360963 -0.9076196 ]\n",
      " [-0.3285408   1.0636914 ]\n",
      " [-0.3285408   1.0636914 ]\n",
      " [-0.14360963 -0.9076196 ]\n",
      " [-0.3285408   1.0636914 ]\n",
      " [-0.14360963 -0.9076196 ]\n",
      " [-0.14360963 -0.9076196 ]\n",
      " [-0.14360963 -0.9076196 ]\n",
      " [-0.3285408   1.0636914 ]\n",
      " [-0.14360963 -0.9076196 ]\n",
      " [-0.14360963 -0.9076196 ]\n",
      " [-0.3285408   1.0636914 ]\n",
      " [-0.3285408   1.0636914 ]\n",
      " [-0.3285408   1.0636914 ]\n",
      " [-0.3285408   1.0636914 ]\n",
      " [ 0.45654943 -0.10180646]\n",
      " [-0.3285408   1.0636914 ]\n",
      " [-0.14360963 -0.9076196 ]\n",
      " [-0.3285408   1.0636914 ]\n",
      " [-0.14360963 -0.9076196 ]\n",
      " [-0.3285408   1.0636914 ]\n",
      " [ 0.45654943 -0.10180646]\n",
      " [-0.3285408   1.0636914 ]\n",
      " [-0.14360963 -0.9076196 ]\n",
      " [ 0.45654943 -0.10180646]\n",
      " [-0.14360963 -0.9076196 ]\n",
      " [-0.3285408   1.0636914 ]\n",
      " [-0.3285408   1.0636914 ]\n",
      " [-0.3285408   1.0636914 ]\n",
      " [-0.3285408   1.0636914 ]\n",
      " [-0.14360963 -0.9076196 ]\n",
      " [-0.14360963 -0.9076196 ]\n",
      " [-0.14360963 -0.9076196 ]\n",
      " [-0.14360963 -0.9076196 ]\n",
      " [-0.14360963 -0.9076196 ]\n",
      " [ 0.45654943 -0.10180646]\n",
      " [-0.14360963 -0.9076196 ]\n",
      " [-0.3285408   1.0636914 ]\n",
      " [-0.14360963 -0.9076196 ]\n",
      " [-0.14360963 -0.9076196 ]\n",
      " [-0.3285408   1.0636914 ]\n",
      " [-0.3285408   1.0636914 ]\n",
      " [-0.14360963 -0.9076196 ]\n",
      " [-0.14360963 -0.9076196 ]\n",
      " [-0.3285408   1.0636914 ]\n",
      " [-0.14360963 -0.9076196 ]\n",
      " [-0.14360963 -0.9076196 ]\n",
      " [-0.3285408   1.0636914 ]\n",
      " [-0.3285408   1.0636914 ]\n",
      " [-0.14360963 -0.9076196 ]\n",
      " [-0.14360963 -0.9076196 ]\n",
      " [-0.3285408   1.0636914 ]\n",
      " [-0.3285408   1.0636914 ]\n",
      " [ 0.45654943 -0.10180646]\n",
      " [-0.3285408   1.0636914 ]\n",
      " [-0.14360963 -0.9076196 ]\n",
      " [-0.3285408   1.0636914 ]\n",
      " [-0.3285408   1.0636914 ]\n",
      " [-0.14360963 -0.9076196 ]\n",
      " [-0.3285408   1.0636914 ]\n",
      " [-0.14360963 -0.9076196 ]\n",
      " [-0.3285408   1.0636914 ]\n",
      " [ 0.45654943 -0.10180646]\n",
      " [-0.3285408   1.0636914 ]\n",
      " [-0.14360963 -0.9076196 ]\n",
      " [-0.3285408   1.0636914 ]\n",
      " [-0.14360963 -0.9076196 ]\n",
      " [-0.3285408   1.0636914 ]\n",
      " [-0.3285408   1.0636914 ]\n",
      " [-0.3285408   1.0636914 ]\n",
      " [-0.14360963 -0.9076196 ]\n",
      " [-0.14360963 -0.9076196 ]\n",
      " [-0.3285408   1.0636914 ]\n",
      " [-0.14360963 -0.9076196 ]\n",
      " [-0.3285408   1.0636914 ]\n",
      " [-0.14360963 -0.9076196 ]\n",
      " [-0.14360963 -0.9076196 ]]\n"
     ]
    }
   ],
   "source": [
    "unlabel_pca = pca.fit_transform(Train_X)\n",
    "print(unlabel_pca)"
   ]
  },
  {
   "cell_type": "code",
   "execution_count": 155,
   "metadata": {},
   "outputs": [
    {
     "name": "stdout",
     "output_type": "stream",
     "text": [
      "[11.37021995 -0.14360963 -0.14360963 -0.14360963 -0.14360963 -0.14360963\n",
      " -0.14360963 -0.14360963 -0.14360963 -0.14360963 -0.14360963 -0.14360963\n",
      " -0.14360963 -0.14360963 -0.14360963 -0.14360963 -0.14360963 -0.14360963\n",
      " -0.14360963 -0.14360963 -0.14360963 -0.14360963 -0.14360963 -0.14360963\n",
      " -0.14360963 -0.14360963 -0.14360963 -0.14360963 -0.14360963 -0.14360963\n",
      " -0.14360963 -0.14360963 -0.14360963 -0.14360963 -0.14360963 -0.14360963\n",
      " -0.14360963 -0.14360963 -0.14360963 -0.14360963 -0.14360963 -0.14360963\n",
      " -0.14360963 -0.14360963 -0.14360963 -0.14360963 -0.14360963 -0.14360963\n",
      " -0.14360963 -0.14360963 -0.14360963 -0.14360963 -0.14360963 -0.14360963\n",
      " -0.14360963 -0.14360963 -0.14360963]\n"
     ]
    },
    {
     "data": {
      "text/plain": [
       "[<matplotlib.lines.Line2D at 0x7f26f80ebeb8>]"
      ]
     },
     "execution_count": 155,
     "metadata": {},
     "output_type": "execute_result"
    },
    {
     "data": {
      "image/png": "[encoded data removed]",
      "text/plain": [
       "<Figure size 864x864 with 1 Axes>"
      ]
     },
     "metadata": {
      "needs_background": "light"
     },
     "output_type": "display_data"
    }
   ],
   "source": [
    "plt.figure(figsize=(12,12))\n",
    "print(unlabel_pca[label_==0,0])\n",
    "plt.plot(unlabel_pca[label_==0,0],unlabel_pca[label_==0,1],'o',color='black')\n",
    "plt.plot(unlabel_pca[label_==1,0],unlabel_pca[label_==1,1],'o',color='red')\n",
    "plt.plot(unlabel_pca[label_==2,0],unlabel_pca[label_==2,1],'o',color='blue')\n",
    "plt.plot(unlabel_pca[label_==3,0],unlabel_pca[label_==3,1],'o',color='purple')\n",
    "plt.plot(unlabel_pca[label_==4,0],unlabel_pca[label_==4,1],'o',color='green')"
   ]
  },
  {
   "cell_type": "code",
   "execution_count": null,
   "metadata": {},
   "outputs": [],
   "source": []
  }
 ],
 "metadata": {
  "kernelspec": {
   "display_name": "Python 3",
   "language": "python",
   "name": "python3"
  },
  "language_info": {
   "codemirror_mode": {
    "name": "ipython",
    "version": 3
   },
   "file_extension": ".py",
   "mimetype": "text/x-python",
   "name": "python",
   "nbconvert_exporter": "python",
   "pygments_lexer": "ipython3",
   "version": "3.7.3"
  }
 },
 "nbformat": 4,
 "nbformat_minor": 4
}
