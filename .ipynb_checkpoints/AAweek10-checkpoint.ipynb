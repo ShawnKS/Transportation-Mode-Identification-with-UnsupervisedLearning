{
 "cells": [
  {
   "cell_type": "code",
   "execution_count": 1,
   "metadata": {},
   "outputs": [
    {
     "name": "stdout",
     "output_type": "stream",
     "text": [
      "Total Cost = 76\n",
      "Agent 0 gets Task 0\n",
      "Agent 1 gets Task 7\n",
      "Agent 2 gets Task 6\n",
      "Agent 3 gets Task 4\n",
      "Agent 4 gets Task 1\n",
      "Agent 5 gets Task 5\n",
      "Agent 6 gets Task 3\n",
      "Agent 7 gets Task 2\n",
      "Set cost c[0, 0] to higher value 23\n",
      "Total Cost = 78\n",
      "Agent 0 gets Task 7\n",
      "Agent 1 gets Task 0\n",
      "Agent 2 gets Task 6\n",
      "Agent 3 gets Task 4\n",
      "Agent 4 gets Task 1\n",
      "Agent 5 gets Task 5\n",
      "Agent 6 gets Task 3\n",
      "Agent 7 gets Task 2\n"
     ]
    },
    {
     "data": {
      "text/plain": [
       "model('assign') is not the default model."
      ]
     },
     "execution_count": 1,
     "metadata": {},
     "output_type": "execute_result"
    }
   ],
   "source": [
    "# Assignment Problem\n",
    "# Written in pymprog by Yingjie Lan <ylan@umd.edu>\n",
    "\n",
    "# The assignment problem is one of the fundamental combinatorial\n",
    "#   optimization problems.\n",
    "\n",
    "#   In its most general form, the problem is as follows:\n",
    "\n",
    "#   There are a number of agents and a number of tasks. Any agent can be\n",
    "#   assigned to perform any task, incurring some cost that may vary\n",
    "#   depending on the agent-task assignment. It is required to perform all\n",
    "#   tasks by assigning exactly one agent to each task in such a way that\n",
    "#   the total cost of the assignment is minimized.\n",
    "#   (From Wikipedia, the free encyclopedia.)\n",
    "\n",
    "#problem data\n",
    "m = 8 # agents\n",
    "M = range(m) #set of agents\n",
    "n = 8 # tasks\n",
    "N = range(n) #set of tasks\n",
    "c = [ #cost\n",
    "(13,21,20,12,8,26,22,11),\n",
    "(12,36,25,41,40,11,4,8),\n",
    "(35,32,13,36,26,21,13,37),\n",
    "(34,54,7,8,12,22,11,40),\n",
    "(21,6,45,18,24,34,12,48),\n",
    "(42,19,39,15,14,16,28,46),\n",
    "(16,34,38,3,34,40,22,24),\n",
    "(26,20,5,17,45,31,37,43)]\n",
    "\n",
    "from pymprog import *\n",
    "\n",
    "begin(\"assign\")\n",
    "#verbose(True) # for model output\n",
    "A = iprod(M, N) # Descartan product \n",
    "x = var('x', A) # assignment decisions\n",
    "# use parameters for automatic model update\n",
    "c = par('c', c) # when their values change\n",
    "minimize(sum(c[i][j]*x[i,j] for i,j in A))\n",
    "# each agent is assigned to at most one task\n",
    "for k in M: sum(x[k,j] for j in N)<=1 \n",
    "# each task must be assigned to somebody\n",
    "for k in N: sum(x[i,k] for i in M)==1 \n",
    "\n",
    "def report():\n",
    "    print(\"Total Cost = %g\"%vobj())\n",
    "    assign = [(i,j) for i in M for j in N \n",
    "                if x[i,j].primal>0.5]\n",
    "    for i,j in assign:\n",
    "        print(\"Agent %d gets Task %d\"%(i, j))\n",
    "    return assign\n",
    "\n",
    "solve()\n",
    "assign = report()\n",
    "i,j = assign[0]\n",
    "# model will be updated for the value change\n",
    "c[i][j].value += 10 \n",
    "print(\"Set cost c%r to higher value %r\"%\n",
    "          ([i,j],c[i][j].value))\n",
    "\n",
    "solve()\n",
    "report()\n",
    "end()"
   ]
  },
  {
   "cell_type": "code",
   "execution_count": 2,
   "metadata": {},
   "outputs": [
    {
     "name": "stdout",
     "output_type": "stream",
     "text": [
      "\n",
      "PyMathProg 1.0 Sensitivity Report Created: 2019/11/14 Thu 08:08AM\n",
      "================================================================================\n",
      "Variable            Activity   Dual.Value     Obj.Coef   Range.From   Range.Till\n",
      "--------------------------------------------------------------------------------\n",
      "*x[0]                     94            0          100         87.5          150\n",
      "*x[1]                     54            0          300          200      366.667\n",
      " x[2]                      0          -20           50         -inf           70\n",
      "================================================================================\n",
      "================================================================================\n",
      "Constraint       Activity Dual.Value  Lower.Bnd  Upper.Bnd RangeLower RangeUpper\n",
      "--------------------------------------------------------------------------------\n",
      " R1                 93000   0.166667       -inf      93000      61200     121200\n",
      " R2                   101        100       -inf        101       77.5    118.667\n",
      "*R3                   148          0       -inf        201        148        148\n",
      "================================================================================\n",
      "\n",
      "PyMathProg 1.0 Sensitivity Report Created: 2019/11/14 Thu 08:08AM\n",
      "================================================================================\n",
      "Variable            Activity   Dual.Value     Obj.Coef   Range.From   Range.Till\n",
      "--------------------------------------------------------------------------------\n",
      "*x[0]                    202            0          100           50 1.79769e+308\n",
      " x[2]                      0          -50           50         -inf          100\n",
      "================================================================================\n",
      "================================================================================\n",
      "Constraint       Activity Dual.Value  Lower.Bnd  Upper.Bnd RangeLower RangeUpper\n",
      "--------------------------------------------------------------------------------\n",
      "*R1                 60600          0       -inf      93000      60600      60600\n",
      " R2                   101        200       -inf        101          0        155\n",
      "================================================================================\n"
     ]
    },
    {
     "data": {
      "text/plain": [
       "model('trader') is not the default model."
      ]
     },
     "execution_count": 2,
     "metadata": {},
     "output_type": "execute_result"
    }
   ],
   "source": [
    "from pymprog import *\n",
    "begin('trader')\n",
    "x = var('x', 3)\n",
    "c = par('c', [100, 300, 50])\n",
    "b = par('b', [93000, 101, 201])\n",
    "maximize(sum(c[i]*x[i] for i in range(3)), 'Profit')\n",
    "\n",
    "300*x[0] + 1200*x[1] + 120*x[2] <= b[0]\n",
    "0.5*x[0] +      x[1] + 0.5*x[2] <= b[1]\n",
    "r = x[0] +          x[1] +     x[2] <= b[2]\n",
    "\n",
    "solve()\n",
    "sensitivity()\n",
    "\n",
    "r.delete()\n",
    "# deleting a basic varriable destroys the basis\n",
    "x[1].delete()\n",
    "# restore the standard basis\n",
    "std_basis() \n",
    "solve()\n",
    "sensitivity()\n",
    "\n",
    "end()"
   ]
  },
  {
   "cell_type": "code",
   "execution_count": 8,
   "metadata": {},
   "outputs": [
    {
     "name": "stdout",
     "output_type": "stream",
     "text": [
      "Max : 10 * x[0] + 6 * x[1] + 4 * x[2]\n",
      "R1: x[0] + x[1] + x[2] <= 10\n",
      "R2: 9 * x[0] + 4 * x[1] + 5 * x[2] <= 60\n",
      "R3: 2 * x[0] + 2 * x[1] + 6 * x[2] <= 30\n",
      "###>Objective value: 76.000000\n",
      "\n",
      "PyMathProg 1.0 Sensitivity Report Created: 2019/11/14 Thu 08:18AM\n",
      "================================================================================\n",
      "Variable            Activity   Dual.Value     Obj.Coef   Range.From   Range.Till\n",
      "--------------------------------------------------------------------------------\n",
      "*x[0]                      4            0           10            6         13.5\n",
      "*x[1]                      6            0            6      4.44444           10\n",
      " x[2]                      0         -2.8            4         -inf          6.8\n",
      "================================================================================\n",
      "Note: rows marked with a * list a basic variable.\n",
      "\n",
      "================================================================================\n",
      "Constraint       Activity Dual.Value  Lower.Bnd  Upper.Bnd RangeLower RangeUpper\n",
      "--------------------------------------------------------------------------------\n",
      " R1                    10        2.8       -inf         10    6.66667         15\n",
      " R2                    60        0.8       -inf         60         40         90\n",
      "*R3                    20          0       -inf         30         20         20\n",
      "================================================================================\n",
      "Note: normally, RangeLower is the min for the binding bound, and RangeUpper\n",
      "gives the max value. However, when neither bounds are binding, the row is\n",
      "marked with a *, and RangeLower is the max for Lower.Bnd(whose min is -inf),\n",
      "and RangeUpper is the min for Upper.Bnd(whose max value is inf). Then the\n",
      "columns of RangeLower, RangeUpper and Activity all have identical values.\n",
      "\n"
     ]
    },
    {
     "data": {
      "text/plain": [
       "model('basic') is not the default model."
      ]
     },
     "execution_count": 8,
     "metadata": {},
     "output_type": "execute_result"
    }
   ],
   "source": [
    "from pymprog import * \n",
    "c = (10, 6, 4)\n",
    "A = [ ( 1, 1, 1),     \n",
    "      ( 9, 4, 5),   \n",
    "      ( 2, 2, 6) ]   \n",
    "b = (10, 60, 30)\n",
    "begin('basic') # begin modelling\n",
    "verbose(True)  # be verbose\n",
    "x = var('x', 3) #create 3 variables\n",
    "maximize(sum(c[i]*x[i] for i in range(3)))\n",
    "for i in range(3):\n",
    "  sum(A[i][j]*x[j] for j in range(3)) <= b[i] \n",
    "solve() # solve the model\n",
    "print(\"###>Objective value: %f\"%vobj())\n",
    "sensitivity() # sensitivity report\n",
    "end() #Good habit: do away with the model"
   ]
  },
  {
   "cell_type": "code",
   "execution_count": 21,
   "metadata": {},
   "outputs": [
    {
     "data": {
      "text/plain": [
       "model('bike production') is not the default model."
      ]
     },
     "execution_count": 21,
     "metadata": {},
     "output_type": "execute_result"
    }
   ],
   "source": [
    "begin('bike production')\n",
    "end()"
   ]
  },
  {
   "cell_type": "code",
   "execution_count": 12,
   "metadata": {},
   "outputs": [],
   "source": [
    "import numpy as np\n",
    "c1 = np.zeros(100000,)"
   ]
  },
  {
   "cell_type": "code",
   "execution_count": 13,
   "metadata": {},
   "outputs": [],
   "source": [
    "import random\n",
    "for i in range (len(c1)):\n",
    "    c1[i] = random.randint(0,10000)"
   ]
  },
  {
   "cell_type": "code",
   "execution_count": 14,
   "metadata": {},
   "outputs": [],
   "source": [
    "A1 = np.random.randint(0,10,(10000,10000))"
   ]
  },
  {
   "cell_type": "code",
   "execution_count": 15,
   "metadata": {},
   "outputs": [],
   "source": [
    "b = np.zeros(10000,)\n",
    "for i in range(len(b)):\n",
    "    b[i] = random.randint(0,40000)"
   ]
  },
  {
   "cell_type": "code",
   "execution_count": 18,
   "metadata": {},
   "outputs": [],
   "source": [
    "random_sample = np.random.choice(len(A1), size=round(333), replace=False, p=None)"
   ]
  },
  {
   "cell_type": "code",
   "execution_count": 20,
   "metadata": {},
   "outputs": [
    {
     "name": "stdout",
     "output_type": "stream",
     "text": [
      "333\n"
     ]
    }
   ],
   "source": [
    "print(len(random_sample))"
   ]
  },
  {
   "cell_type": "code",
   "execution_count": 21,
   "metadata": {},
   "outputs": [
    {
     "name": "stdout",
     "output_type": "stream",
     "text": [
      "Total Cost = 76\n",
      "Agent 0 gets Task 0\n",
      "Agent 1 gets Task 7\n",
      "Agent 2 gets Task 6\n",
      "Agent 3 gets Task 4\n",
      "Agent 4 gets Task 1\n",
      "Agent 5 gets Task 5\n",
      "Agent 6 gets Task 3\n",
      "Agent 7 gets Task 2\n",
      "Set cost c[0, 0] to higher value 23\n",
      "Total Cost = 78\n",
      "Agent 0 gets Task 7\n",
      "Agent 1 gets Task 0\n",
      "Agent 2 gets Task 6\n",
      "Agent 3 gets Task 4\n",
      "Agent 4 gets Task 1\n",
      "Agent 5 gets Task 5\n",
      "Agent 6 gets Task 3\n",
      "Agent 7 gets Task 2\n"
     ]
    },
    {
     "data": {
      "text/plain": [
       "model('assign') is not the default model."
      ]
     },
     "execution_count": 21,
     "metadata": {},
     "output_type": "execute_result"
    }
   ],
   "source": [
    "m = 8 # agents\n",
    "M = range(m) #set of agents\n",
    "n = 8 # tasks\n",
    "N = range(n) #set of tasks\n",
    "c = [ #cost\n",
    "(13,21,20,12,8,26,22,11),\n",
    "(12,36,25,41,40,11,4,8),\n",
    "(35,32,13,36,26,21,13,37),\n",
    "(34,54,7,8,12,22,11,40),\n",
    "(21,6,45,18,24,34,12,48),\n",
    "(42,19,39,15,14,16,28,46),\n",
    "(16,34,38,3,34,40,22,24),\n",
    "(26,20,5,17,45,31,37,43)]\n",
    "\n",
    "from pymprog import *\n",
    "\n",
    "begin(\"assign\")\n",
    "#verbose(True) # for model output\n",
    "A = iprod(M, N) # Descartan product \n",
    "x = var('x', A) # assignment decisions\n",
    "# use parameters for automatic model update\n",
    "c = par('c', c) # when their values change\n",
    "minimize(sum(c[i][j]*x[i,j] for i,j in A))\n",
    "# each agent is assigned to at most one task\n",
    "for k in M: sum(x[k,j] for j in N)<=1 \n",
    "# each task must be assigned to somebody\n",
    "for k in N: sum(x[i,k] for i in M)==1 \n",
    "\n",
    "def report():\n",
    "    print(\"Total Cost = %g\"%vobj())\n",
    "    assign = [(i,j) for i in M for j in N \n",
    "                if x[i,j].primal>0.5]\n",
    "    for i,j in assign:\n",
    "        print(\"Agent %d gets Task %d\"%(i, j))\n",
    "    return assign\n",
    "\n",
    "solve()\n",
    "assign = report()\n",
    "i,j = assign[0]\n",
    "# model will be updated for the value change\n",
    "c[i][j].value += 10 \n",
    "print(\"Set cost c%r to higher value %r\"%\n",
    "          ([i,j],c[i][j].value))\n",
    "\n",
    "solve()\n",
    "report()\n",
    "end()"
   ]
  },
  {
   "cell_type": "code",
   "execution_count": 43,
   "metadata": {},
   "outputs": [
    {
     "name": "stdout",
     "output_type": "stream",
     "text": [
      "simplex done: 5\n",
      "6859.0\n",
      "This is the optimal tour with [cars carried]:\n",
      "1[15]14[14]13[13]12[12]7[11]6[10]15[9]5[8]11[7]9[6]10[5]16[4]3[3]2[2]4[1]8[0]"
     ]
    },
    {
     "data": {
      "text/plain": [
       "model('tsp') is not the default model."
      ]
     },
     "execution_count": 43,
     "metadata": {},
     "output_type": "execute_result"
    }
   ],
   "source": [
    "from __future__ import print_function\n",
    "\n",
    "n = 16 #number of nodes\n",
    "V = range(1,n+1) #set of notes\n",
    "#cost or each arc, format: (start, end):cost\n",
    "c = {(1,2):509, (1,3):501, (1,4):312, (1,5):1019, (1,6):736, (1,7):656, \n",
    "     (1,8): 60, (1,9):1039, (1,10):726, (1,11):2314, (1,12):479, \n",
    "     (1,13):448, (1,14):479, (1,15):619, (1,16):150, \n",
    "(2,1):509, (2,3):126, (2,4):474, (2,5):1526, (2,6):1226, (2,7):1133, \n",
    "     (2,8):532, (2,9):1449, (2,10):1122, (2,11):2789, (2,12):958, \n",
    "     (2,13):941, (2,14):978, (2,15):1127, (2,16):542, \n",
    "(3,1):501, (3,2):126, (3,4):541, (3,5):1516, (3,6):1184, (3,7):1084, \n",
    "     (3,8):536, (3,9):1371, (3,10):1045, (3,11):2728, (3,12):913, \n",
    "     (3,13):904, (3,14):946, (3,15):1115, (3,16):499, \n",
    "(4,1):312, (4,2):474, (4,3):541, (4,5):1157, (4,6):980, (4,7):919, \n",
    "     (4,8):271, (4,9):1333, (4,10):1029, (4,11):2553, (4,12):751, \n",
    "     (4,13):704, (4,14):720, (4,15):783, (4,16):455, \n",
    "(5,1):1019, (5,2):1526, (5,3):1516, (5,4):1157, (5,6):478, (5,7):583, \n",
    "     (5,8):996, (5,9):858, (5,10):855, (5,11):1504, (5,12):677, \n",
    "     (5,13):651, (5,14):600, (5,15):401, (5,16):1033, \n",
    "(6,1):736, (6,2):1226, (6,3):1184, (6,4):980, (6,5):478, (6,7):115, \n",
    "     (6,8):740, (6,9):470, (6,10):379, (6,11):1581, (6,12):271, \n",
    "     (6,13):289, (6,14):261, (6,15):308, (6,16):687, \n",
    "(7,1):656, (7,2):1133, (7,3):1084, (7,4):919, (7,5):583, (7,6):115, \n",
    "     (7,8):667, (7,9):455, (7,10):288, (7,11):1661, (7,12):177, \n",
    "     (7,13):216, (7,14):207, (7,15):343, (7,16):592, \n",
    "(8,1): 60, (8,2):532, (8,3):536, (8,4):271, (8,5):996, (8,6):740, \n",
    "     (8,7):667, (8,9):1066, (8,10):759, (8,11):2320, (8,12):493, \n",
    "     (8,13):454, (8,14):479, (8,15):598, (8,16):206, \n",
    "(9,1):1039, (9,2):1449, (9,3):1371, (9,4):1333, (9,5):858, (9,6):470, \n",
    "     (9,7):455, (9,8):1066, (9,10):328, (9,11):1387, (9,12):591, \n",
    "     (9,13):650, (9,14):656, (9,15):776, (9,16):933, \n",
    "(10,1):726, (10,2):1122, (10,3):1045, (10,4):1029, (10,5):855, \n",
    "     (10,6):379, (10,7):288, (10,8):759, (10,9):328, (10,11):1697, \n",
    "     (10,12):333, (10,13):400, (10,14):427, (10,15):622, (10,16):610, \n",
    "(11,1):2314, (11,2):2789, (11,3):2728, (11,4):2553, (11,5):1504, \n",
    "     (11,6):1581, (11,7):1661, (11,8):2320, (11,9):1387, (11,10):1697, \n",
    "     (11,12):1838, (11,13):1868, (11,14):1841, (11,15):1789, (11,16):2248, \n",
    "(12,1):479, (12,2):958, (12,3):913, (12,4):751, (12,5):677, (12,6):271, \n",
    "     (12,7):177, (12,8):493, (12,9):591, (12,10):333, (12,11):1838, \n",
    "     (12,13): 68, (12,14):105, (12,15):336, (12,16):417, \n",
    "(13,1):448, (13,2):941, (13,3):904, (13,4):704, (13,5):651, (13,6):289, \n",
    "     (13,7):216, (13,8):454, (13,9):650, (13,10):400, (13,11):1868, \n",
    "     (13,12): 68, (13,14): 52, (13,15):287, (13,16):406, \n",
    "(14,1):479, (14,2):978, (14,3):946, (14,4):720, (14,5):600, (14,6):261, \n",
    "     (14,7):207, (14,8):479, (14,9):656, (14,10):427, (14,11):1841, \n",
    "     (14,12):105, (14,13): 52, (14,15):237, (14,16):449, \n",
    "(15,1):619, (15,2):1127, (15,3):1115, (15,4):783, (15,5):401, (15,6):308, \n",
    "     (15,7):343, (15,8):598, (15,9):776, (15,10):622, (15,11):1789, \n",
    "     (15,12):336, (15,13):287, (15,14):237, (15,16):636, \n",
    "(16,1):150, (16,2):542, (16,3):499, (16,4):455, (16,5):1033, (16,6):687, \n",
    "     (16,7):592, (16,8):206, (16,9):933, (16,10):610, (16,11):2248, \n",
    "     (16,12):417, (16,13):406, (16,14):449, (16,15):636}\n",
    "#set of arcs: (i,j) repr an arc from i to j\n",
    "E = c.keys()\n",
    "\n",
    "from pymprog import model\n",
    "p = model(\"tsp\")\n",
    "x = p.var('x', E, bool) # created over E.\n",
    "#minize the total travel distance\n",
    "p.min(sum(c[t]*x[t] for t in E), 'totaldist')\n",
    "#subject to: leave each city exactly once\n",
    "for k in V: sum(x[k,j] for j in V if (k,j) in E)==1 \n",
    "#subject to: enter each city exactly once\n",
    "for k in V: sum(x[i,k] for i in V if (i,k) in E)==1 \n",
    "\n",
    "#some flow constraints to eliminate subtours.\n",
    "#y: the number of cars carried: city 1 has n cars.\n",
    "#exactly one car will be distributed to each city.\n",
    "y=p.var('y', E) \n",
    "for t in E: (n-1)*x[t] >= y[t] \n",
    "for k in V: (\n",
    "  sum(y[k,j] for j in V if (k,j) in E) # cars out\n",
    "  - sum(y[i,k] for i in V if (i,k) in E) # cars in\n",
    "  ==  (n if k==1 else 0) - 1 )\n",
    "\n",
    "p.solve(float) #solve as LP only.\n",
    "print(\"simplex done: %r\"% p.status())\n",
    "p.solve(int) #solve the IP problem\n",
    "print(p.vobj())\n",
    "tour = [t for t in E if x[t].primal>.5]\n",
    "cat, car = 1, n\n",
    "print(\"This is the optimal tour with [cars carried]:\")\n",
    "for k in V: \n",
    "   print(cat, end='')\n",
    "   for i,j in tour: \n",
    "      if i==cat: \n",
    "         print(\"[%g]\"%y[i,j].primal, end='')\n",
    "         cat=j\n",
    "         break\n",
    "print(cat)\n",
    "p.end()"
   ]
  },
  {
   "cell_type": "code",
   "execution_count": 39,
   "metadata": {},
   "outputs": [
    {
     "name": "stdout",
     "output_type": "stream",
     "text": [
      "__del__ is deleting problem: basic\n",
      "Min : x[0] + 1.1 * x[1] + 1.1 * x[2] + x[3] + x[4] + x[5]\n",
      "R1: x[0] + x[1] + 0 * x[2] + 0 * x[3] + 0 * x[4] + 0 * x[5] >= 1\n",
      "R2: x[0] + x[1] + 0 * x[2] + 0 * x[3] + 0 * x[4] + 0 * x[5] >= 1\n",
      "R3: x[0] + 0 * x[1] + x[2] + 0 * x[3] + 0 * x[4] + 0 * x[5] >= 1\n",
      "R4: x[0] + 0 * x[1] + x[2] + 0 * x[3] + 0 * x[4] + 0 * x[5] >= 1\n",
      "R5: 0 * x[0] + x[1] + 0 * x[2] + x[3] + 0 * x[4] + 0 * x[5] >= 1\n",
      "R6: 0 * x[0] + 0 * x[1] + x[2] + x[3] + 0 * x[4] + 0 * x[5] >= 1\n",
      "R7: 0 * x[0] + x[1] + 0 * x[2] + 0 * x[3] + x[4] + 0 * x[5] >= 1\n",
      "R8: 0 * x[0] + 0 * x[1] + x[2] + 0 * x[3] + 0 * x[4] + x[5] >= 1\n",
      "###>Objective value: 2.200000\n",
      "\n",
      "PyMathProg 1.0 Sensitivity Report Created: 2019/11/14 Thu 10:37AM\n",
      "================================================================================\n",
      "Variable            Activity   Dual.Value     Obj.Coef   Range.From   Range.Till\n",
      "--------------------------------------------------------------------------------\n",
      "*x[0]                      0            0            1          0.2          1.2\n",
      "*x[1]                      1            0          1.1          0.9          1.9\n",
      "*x[2]                      1            0          1.1            1          1.9\n",
      "*x[3]                      0            0            1          0.2          1.1\n",
      " x[4]                      0          0.8            1          0.2          inf\n",
      " x[5]                      0            1            1            0          inf\n",
      "================================================================================\n",
      "Note: rows marked with a * list a basic variable.\n",
      "\n",
      "================================================================================\n",
      "Constraint       Activity Dual.Value  Lower.Bnd  Upper.Bnd RangeLower RangeUpper\n",
      "--------------------------------------------------------------------------------\n",
      " R1                     1        0.9          1        inf          1          1\n",
      "*R2                     1          0          1        inf          1          1\n",
      " R3                     1        0.1          1        inf          1          1\n",
      "*R4                     1          0          1        inf          1          1\n",
      "*R5                     1          0          1        inf          1          1\n",
      " R6                     1          1          1        inf          1 1.79769e+308\n",
      " R7                     1        0.2          1        inf          1          1\n",
      "*R8                     1          0          1        inf          1          1\n",
      "================================================================================\n",
      "Note: normally, RangeLower is the min for the binding bound, and RangeUpper\n",
      "gives the max value. However, when neither bounds are binding, the row is\n",
      "marked with a *, and RangeLower is the max for Lower.Bnd(whose min is -inf),\n",
      "and RangeUpper is the min for Upper.Bnd(whose max value is inf). Then the\n",
      "columns of RangeLower, RangeUpper and Activity all have identical values.\n",
      "\n",
      "Running time 0.010663999999991347\n"
     ]
    },
    {
     "name": "stderr",
     "output_type": "stream",
     "text": [
      "/home/sxz/anaconda3/lib/python3.7/site-packages/ipykernel_launcher.py:17: DeprecationWarning: time.clock has been deprecated in Python 3.3 and will be removed from Python 3.8: use time.perf_counter or time.process_time instead\n",
      "/home/sxz/anaconda3/lib/python3.7/site-packages/ipykernel_launcher.py:30: DeprecationWarning: time.clock has been deprecated in Python 3.3 and will be removed from Python 3.8: use time.perf_counter or time.process_time instead\n"
     ]
    }
   ],
   "source": [
    "from pymprog import * \n",
    "import numpy as np\n",
    "import time\n",
    "c1 = np.zeros(10000,)\n",
    "import random\n",
    "\n",
    "c=(1,1.1,1.1,1,1,1)\n",
    "b=(1,1,1,1,1,1,1,1)\n",
    "A=[[1,1,0,0,0,0],\n",
    "   [1,1,0,0,0,0],\n",
    "   [1,0,1,0,0,0],\n",
    "   [1,0,1,0,0,0],\n",
    "   [0,1,0,1,0,0],\n",
    "   [0,0,1,1,0,0],\n",
    "   [0,1,0,0,1,0],\n",
    "   [0,0,1,0,0,1]]\n",
    "current = time.clock()\n",
    "\n",
    "begin('basic') # begin modelling\n",
    "verbose(True)  # be verbose\n",
    "x = var('x', 6) #create 6 variables\n",
    "minimize(sum(c[i]*x[i] for i in range(6)))\n",
    "for i in range(8):\n",
    "  sum(A[i][j]*x[j] for j in range(6)) >= b[i] \n",
    "solve() # solve the model\n",
    "print(\"###>Objective value: %f\"%vobj())\n",
    "sensitivity() # sensitivity report\n",
    "# end() #Good habit: do away with the model\n",
    "\n",
    "print('Running time', time.clock() - current)"
   ]
  },
  {
   "cell_type": "code",
   "execution_count": 36,
   "metadata": {},
   "outputs": [],
   "source": [
    "solve() # solve the model"
   ]
  },
  {
   "cell_type": "code",
   "execution_count": 29,
   "metadata": {},
   "outputs": [
    {
     "data": {
      "text/plain": [
       "(2, 1)"
      ]
     },
     "execution_count": 29,
     "metadata": {},
     "output_type": "execute_result"
    }
   ],
   "source": [
    "np.shape(A1)"
   ]
  },
  {
   "cell_type": "code",
   "execution_count": 41,
   "metadata": {},
   "outputs": [
    {
     "name": "stdout",
     "output_type": "stream",
     "text": [
      "Board size: 8 X 8\n",
      "randomly put 2 queens.\n",
      "found 21 bad positions out of 100\n"
     ]
    }
   ],
   "source": [
    "n = 3\n",
    "N = range(n)\n",
    "M = [(i,j) for i in N for j in N if i<j]\n",
    "\n",
    "D = (3,4,2) #duration of each job\n",
    "L = (0,2,0) #earliest start\n",
    "U = (9,7,8) #latest finish\n",
    "\n",
    "from pymprog import *\n",
    "\n",
    "begin(\"job-scheduling\")\n",
    "x = var('x',  N) #start time\n",
    "#MD[i,j] = (D[i]+D[j])/2.0\n",
    "#T[i] = x[i] + D[i]\n",
    "#y[i,j]<= |T[i]-x[j]-MD[i,j]|\n",
    "#y[i,j] < MD[i,j] <==> overlap betw jobs i,j\n",
    "y = var('y',  M ) \n",
    "#w[i,j]: the 'OR' for |T[i]-x[j]-MD[i,j]|\n",
    "w = var('w', M, kind=bool)\n",
    "# z[i,j] >= MD[i,j] - y[i,j]\n",
    "z = var('z',  M )\n",
    "\n",
    "minimize( sum(z[i,j] for i,j in M) )\n",
    "\n",
    "for i,j in M:\n",
    "   ((D[i]+D[j])/2.0 - (x[i]+D[i] - x[j]) + \n",
    "       (U[i]-L[j]) * w[i,j] >= y[i,j])\n",
    "\n",
    "   ((x[i]+D[i] - x[j]) - (D[i]+D[j])/2.0 +\n",
    "       (U[j]-L[i])*(1-w[i,j]) >= y[i,j])\n",
    "\n",
    "   (D[i]+D[j])/2.0 - y[i,j] <= z[i,j] \n",
    "\n",
    "#set bounds on x\n",
    "for i in N:\n",
    "   L[i] <= x[i] <= U[i] - D[i] \n",
    "\n",
    "#another way to enforce no overlapping:\n",
    "#\n",
    "# x[i] >= T[j] or x[j] >= T[i]\n",
    "#\n",
    "# Which can be formulated as:\n",
    "#\n",
    "# x[i] + (U[j]-L[i])*w[i,j]>= x[j]+D[j]\n",
    "# x[j] + (U[i]-L[j])*(1-w[i,j]) >= x[i]+D[i]\n",
    "\n",
    "solve()\n",
    "\n",
    "print(\"status: %r\"% status())\n",
    "print( \"overlap: %r\"% vobj())\n",
    "print( \"schedule:\")\n",
    "\n",
    "for i in N:\n",
    "   start = x[i].primal\n",
    "   print(\"job %i: %r, %r\"%(i, start, start+D[i])"
   ]
  },
  {
   "cell_type": "code",
   "execution_count": null,
   "metadata": {},
   "outputs": [],
   "source": []
  }
 ],
 "metadata": {
  "kernelspec": {
   "display_name": "Python 3",
   "language": "python",
   "name": "python3"
  },
  "language_info": {
   "codemirror_mode": {
    "name": "ipython",
    "version": 3
   },
   "file_extension": ".py",
   "mimetype": "text/x-python",
   "name": "python",
   "nbconvert_exporter": "python",
   "pygments_lexer": "ipython3",
   "version": "3.7.3"
  }
 },
 "nbformat": 4,
 "nbformat_minor": 4
}
