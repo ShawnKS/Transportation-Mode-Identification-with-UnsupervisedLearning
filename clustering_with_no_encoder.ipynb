{
 "cells": [
  {
   "cell_type": "code",
   "execution_count": 1,
   "metadata": {},
   "outputs": [
    {
     "name": "stderr",
     "output_type": "stream",
     "text": [
      "Using TensorFlow backend.\n"
     ]
    }
   ],
   "source": [
    "import os\n",
    "os.environ[\"CUDA_VISIBLE_DEVICES\"] = \"0,1\"\n",
    "os.environ[\"TF_CPP_MIN_LOG_LEVEL\"] = \"2\"\n",
    "import warnings\n",
    "warnings.filterwarnings(\"ignore\")\n",
    "import numpy as np\n",
    "from sklearn.metrics import classification_report, confusion_matrix, accuracy_score\n",
    "import random\n",
    "import pickle\n",
    "import tensorflow as tf\n",
    "from sklearn.ensemble import RandomForestClassifier\n",
    "from sklearn.svm import SVC\n",
    "from sklearn.model_selection import GridSearchCV\n",
    "import pandas as pd\n",
    "import os\n",
    "from sklearn.decomposition import PCA\n",
    "from sklearn.metrics import precision_score\n",
    "from sklearn.metrics import recall_score\n",
    "from sklearn.metrics import f1_score\n",
    "from sklearn.metrics import roc_auc_score\n",
    "from sklearn.cluster import KMeans\n",
    "import matplotlib.pyplot as plt\n",
    "import keras\n",
    "import sys\n"
   ]
  },
  {
   "cell_type": "code",
   "execution_count": 2,
   "metadata": {},
   "outputs": [],
   "source": [
    "filename = '/home/sxz/data/geolife_Data/paper2_data_for_DL_kfold_dataset_RL.pickle'\n",
    "with open(filename, 'rb') as f:\n",
    "    kfold_dataset, X_unlabeled = pickle.load(f)"
   ]
  },
  {
   "cell_type": "code",
   "execution_count": 12,
   "metadata": {},
   "outputs": [],
   "source": [
    "raw_cluster = np.fromfile(\"raw_data.bin\",dtype=np.float64)"
   ]
  },
  {
   "cell_type": "code",
   "execution_count": 13,
   "metadata": {},
   "outputs": [
    {
     "data": {
      "text/plain": [
       "array([4.72966737e-05, 1.85153173e-02, 6.74826643e-01, ...,\n",
       "       5.56388435e-01, 6.55849449e-01, 2.77631259e-01])"
      ]
     },
     "execution_count": 13,
     "metadata": {},
     "output_type": "execute_result"
    }
   ],
   "source": [
    "raw_cluster"
   ]
  },
  {
   "cell_type": "code",
   "execution_count": 14,
   "metadata": {},
   "outputs": [
    {
     "name": "stdout",
     "output_type": "stream",
     "text": [
      "(109120,)\n"
     ]
    }
   ],
   "source": [
    "print(np.array(raw_cluster).shape)"
   ]
  },
  {
   "cell_type": "code",
   "execution_count": 19,
   "metadata": {},
   "outputs": [],
   "source": [
    "label_ = np.fromfile(\"raw_label.bin\",dtype = np.int64)"
   ]
  },
  {
   "cell_type": "code",
   "execution_count": 15,
   "metadata": {},
   "outputs": [],
   "source": [
    "raw_cluster = raw_cluster.reshape(110,992)"
   ]
  },
  {
   "cell_type": "code",
   "execution_count": 16,
   "metadata": {},
   "outputs": [],
   "source": [
    "pca_ = PCA(n_components=2)"
   ]
  },
  {
   "cell_type": "code",
   "execution_count": 17,
   "metadata": {},
   "outputs": [],
   "source": [
    "encode_ = pca_.fit_transform(raw_cluster)"
   ]
  },
  {
   "cell_type": "code",
   "execution_count": 18,
   "metadata": {},
   "outputs": [
    {
     "data": {
      "text/plain": [
       "<matplotlib.collections.PathCollection at 0x7fd821b24f28>"
      ]
     },
     "execution_count": 18,
     "metadata": {},
     "output_type": "execute_result"
    },
    {
     "data": {
      "image/png": "[encoded data removed]",
      "text/plain": [
       "<Figure size 864x864 with 1 Axes>"
      ]
     },
     "metadata": {
      "needs_background": "light"
     },
     "output_type": "display_data"
    }
   ],
   "source": [
    "plt.figure(figsize=[12,12])\n",
    "plt.scatter(x = [i[0] for i in encode_],y = [i[1] for i in encode_])"
   ]
  },
  {
   "cell_type": "code",
   "execution_count": 20,
   "metadata": {},
   "outputs": [
    {
     "name": "stdout",
     "output_type": "stream",
     "text": [
      "(110,)\n"
     ]
    },
    {
     "data": {
      "text/plain": [
       "<matplotlib.collections.PathCollection at 0x7fd8218bb128>"
      ]
     },
     "execution_count": 20,
     "metadata": {},
     "output_type": "execute_result"
    },
    {
     "data": {
      "image/png": "[encoded data removed]",
      "text/plain": [
       "<Figure size 648x648 with 1 Axes>"
      ]
     },
     "metadata": {
      "needs_background": "light"
     },
     "output_type": "display_data"
    }
   ],
   "source": [
    "plt.figure(figsize=[9,9])\n",
    "km5 = KMeans(n_clusters=5, init='random',max_iter=300,n_init=10,random_state=0)\n",
    "encode_means = km5.fit_predict(encode_)\n",
    "print(np.array(encode_means).shape)\n",
    "plt.plot(encode_[encode_means==0,0],encode_[encode_means==0,1],'o',color='black')\n",
    "plt.plot(encode_[encode_means==1,0],encode_[encode_means==1,1],'o',color='red')\n",
    "plt.plot(encode_[encode_means==2,0],encode_[encode_means==2,1],'o',color='blue')\n",
    "plt.plot(encode_[encode_means==3,0],encode_[encode_means==3,1],'o',color='purple')\n",
    "plt.plot(encode_[encode_means==4,0],encode_[encode_means==4,1],'o',color='green')\n",
    "plt.scatter(km5.cluster_centers_[:,0], km5.cluster_centers_[:,1],s=50,marker='s', c='red',\n",
    "            alpha=0.7, label='Centroids')"
   ]
  },
  {
   "cell_type": "code",
   "execution_count": 21,
   "metadata": {},
   "outputs": [],
   "source": [
    "def select_label(cluster_set , cluster_center):\n",
    "    minimun = 100\n",
    "    distance = np.sqrt(np.sum(np.square(cluster_set[i] , cluster_center)))"
   ]
  },
  {
   "cell_type": "code",
   "execution_count": 22,
   "metadata": {},
   "outputs": [],
   "source": [
    "mini = np.zeros((5), dtype=np.float)\n",
    "mini_coodinate = np.zeros((5,2), dtype=np.float)"
   ]
  },
  {
   "cell_type": "code",
   "execution_count": 25,
   "metadata": {},
   "outputs": [
    {
     "name": "stdout",
     "output_type": "stream",
     "text": [
      "51\n",
      "4\n",
      "28\n",
      "1\n",
      "104\n",
      "4\n",
      "106\n",
      "4\n",
      "42\n",
      "3\n",
      "61\n",
      "accuracy for PCA is : 0.5545454545454546\n"
     ]
    }
   ],
   "source": [
    "mini = [100,100,100,100,100]\n",
    "count = 0\n",
    "for j in range(5):\n",
    "    for i in range(len(encode_[encode_means==j])):\n",
    "            if(mini[j] >(np.sqrt(np.sum(np.square(encode_[encode_means==j][i] - [km5.cluster_centers_[j,0],km5.cluster_centers_[j,1]] ))))):\n",
    "                mini[j] = (np.sqrt(np.sum(np.square(encode_[encode_means==j][i] - [km5.cluster_centers_[j,0],km5.cluster_centers_[j,1]] ))))\n",
    "                mini_coodinate[j] = encode_[encode_means==j][i]\n",
    "cluster_fake = np.zeros(5,)\n",
    "for j in range(5):\n",
    "    for i in range(len(encode_)):\n",
    "        if(mini_coodinate[j][0] == encode_[i][0]):\n",
    "            print(i)\n",
    "            print(label_[i])\n",
    "            cluster_fake[j] = label_[i]\n",
    "label_fake = np.zeros(110,)\n",
    "for i in range(5):\n",
    "    label_fake[encode_means==i] =cluster_fake[i]\n",
    "count = 0\n",
    "for i in range(len(label_)):\n",
    "    if(label_fake[i] == label_[i]):\n",
    "        count = count+1\n",
    "print(count)\n",
    "print('accuracy for PCA is : {}'.format(count/110))"
   ]
  },
  {
   "cell_type": "code",
   "execution_count": 32,
   "metadata": {},
   "outputs": [],
   "source": [
    "raw_cluster =[]"
   ]
  },
  {
   "cell_type": "code",
   "execution_count": 49,
   "metadata": {},
   "outputs": [
    {
     "data": {
      "text/plain": [
       "(110, 1, 248, 4)"
      ]
     },
     "execution_count": 49,
     "metadata": {},
     "output_type": "execute_result"
    }
   ],
   "source": [
    "kfold_dataset[0][2].shape"
   ]
  },
  {
   "cell_type": "code",
   "execution_count": 50,
   "metadata": {},
   "outputs": [],
   "source": [
    "raw_cluster = kfold_dataset[0][2].reshape(110,992)"
   ]
  },
  {
   "cell_type": "code",
   "execution_count": 54,
   "metadata": {},
   "outputs": [],
   "source": [
    "raw_cluster = np.vstack((raw_cluster, kfold_dataset[4][2].reshape(len(kfold_dataset[4][2]),992)))"
   ]
  },
  {
   "cell_type": "code",
   "execution_count": null,
   "metadata": {},
   "outputs": [],
   "source": [
    "print()"
   ]
  },
  {
   "cell_type": "code",
   "execution_count": 55,
   "metadata": {},
   "outputs": [
    {
     "data": {
      "text/plain": [
       "<matplotlib.collections.PathCollection at 0x7fd821d7ab00>"
      ]
     },
     "execution_count": 55,
     "metadata": {},
     "output_type": "execute_result"
    },
    {
     "data": {
      "image/png": "[encoded data removed]",
      "text/plain": [
       "<Figure size 864x864 with 1 Axes>"
      ]
     },
     "metadata": {
      "needs_background": "light"
     },
     "output_type": "display_data"
    }
   ],
   "source": [
    "pca_ = PCA(n_components=2)\n",
    "encode_ = pca_.fit_transform(raw_cluster)\n",
    "plt.figure(figsize=[12,12])\n",
    "plt.scatter(x = [i[0] for i in encode_],y = [i[1] for i in encode_])"
   ]
  },
  {
   "cell_type": "code",
   "execution_count": 56,
   "metadata": {},
   "outputs": [
    {
     "name": "stdout",
     "output_type": "stream",
     "text": [
      "(551,)\n"
     ]
    },
    {
     "data": {
      "text/plain": [
       "<matplotlib.collections.PathCollection at 0x7fd821542080>"
      ]
     },
     "execution_count": 56,
     "metadata": {},
     "output_type": "execute_result"
    },
    {
     "data": {
      "image/png": "[encoded data removed]",
      "text/plain": [
       "<Figure size 648x648 with 1 Axes>"
      ]
     },
     "metadata": {
      "needs_background": "light"
     },
     "output_type": "display_data"
    }
   ],
   "source": [
    "plt.figure(figsize=[9,9])\n",
    "km5 = KMeans(n_clusters=5, init='random',max_iter=300,n_init=10,random_state=0)\n",
    "encode_means = km5.fit_predict(encode_)\n",
    "print(np.array(encode_means).shape)\n",
    "plt.plot(encode_[encode_means==0,0],encode_[encode_means==0,1],'o',color='black')\n",
    "plt.plot(encode_[encode_means==1,0],encode_[encode_means==1,1],'o',color='red')\n",
    "plt.plot(encode_[encode_means==2,0],encode_[encode_means==2,1],'o',color='blue')\n",
    "plt.plot(encode_[encode_means==3,0],encode_[encode_means==3,1],'o',color='purple')\n",
    "plt.plot(encode_[encode_means==4,0],encode_[encode_means==4,1],'o',color='green')\n",
    "plt.scatter(km5.cluster_centers_[:,0], km5.cluster_centers_[:,1],s=50,marker='s', c='red',\n",
    "            alpha=0.7, label='Centroids')"
   ]
  },
  {
   "cell_type": "code",
   "execution_count": 57,
   "metadata": {},
   "outputs": [],
   "source": [
    "def select_label(cluster_set , cluster_center):\n",
    "    minimun = 100\n",
    "    distance = np.sqrt(np.sum(np.square(cluster_set[i] , cluster_center)))"
   ]
  },
  {
   "cell_type": "code",
   "execution_count": 59,
   "metadata": {},
   "outputs": [
    {
     "name": "stdout",
     "output_type": "stream",
     "text": [
      "38\n",
      "2\n",
      "169\n",
      "4\n",
      "392\n",
      "4\n",
      "438\n",
      "4\n",
      "203\n",
      "4\n",
      "329\n",
      "accuracy for PCA is : 0.5970961887477314\n"
     ]
    }
   ],
   "source": [
    "mini = np.zeros((5), dtype=np.float)\n",
    "mini_coodinate = np.zeros((5,2), dtype=np.float)\n",
    "mini = [100,100,100,100,100]\n",
    "count = 0\n",
    "for j in range(5):\n",
    "    for i in range(len(encode_[encode_means==j])):\n",
    "            if(mini[j] >(np.sqrt(np.sum(np.square(encode_[encode_means==j][i] - [km5.cluster_centers_[j,0],km5.cluster_centers_[j,1]] ))))):\n",
    "                mini[j] = (np.sqrt(np.sum(np.square(encode_[encode_means==j][i] - [km5.cluster_centers_[j,0],km5.cluster_centers_[j,1]] ))))\n",
    "                mini_coodinate[j] = encode_[encode_means==j][i]\n",
    "cluster_fake = np.zeros(5,)\n",
    "for j in range(5):\n",
    "    for i in range(len(encode_)):\n",
    "        if(mini_coodinate[j][0] == encode_[i][0]):\n",
    "            print(i)\n",
    "            print(label_[i])\n",
    "            cluster_fake[j] = label_[i]\n",
    "label_fake = np.zeros(551,)\n",
    "for i in range(5):\n",
    "    label_fake[encode_means==i] =cluster_fake[i]\n",
    "count = 0\n",
    "for i in range(len(label_)):\n",
    "    if(label_fake[i] == label_[i]):\n",
    "        count = count+1\n",
    "print(count)\n",
    "print('accuracy for PCA is : {}'.format(count/551))"
   ]
  },
  {
   "cell_type": "code",
   "execution_count": null,
   "metadata": {},
   "outputs": [],
   "source": []
  }
 ],
 "metadata": {
  "kernelspec": {
   "display_name": "Python 3",
   "language": "python",
   "name": "python3"
  },
  "language_info": {
   "codemirror_mode": {
    "name": "ipython",
    "version": 3
   },
   "file_extension": ".py",
   "mimetype": "text/x-python",
   "name": "python",
   "nbconvert_exporter": "python",
   "pygments_lexer": "ipython3",
   "version": "3.7.3"
  }
 },
 "nbformat": 4,
 "nbformat_minor": 4
}
